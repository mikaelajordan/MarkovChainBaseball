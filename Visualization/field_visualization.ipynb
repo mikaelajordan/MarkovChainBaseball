{
 "cells": [
  {
   "cell_type": "markdown",
   "metadata": {},
   "source": [
    "**Field Visualization**\n",
    "\n",
    "Goal: using Bokeh, make a passable baseball field diagram drop downs for player positions\n",
    "\n",
    "This is a decent template: https://upload.wikimedia.org/wikipedia/commons/thumb/6/69/Baseball_fielding_positions_tiny.svg/87px-Baseball_fielding_positions_tiny.svg.png"
   ]
  },
  {
   "cell_type": "code",
   "execution_count": 1,
   "metadata": {
    "collapsed": false
   },
   "outputs": [
    {
     "data": {
      "text/html": [
       "\n",
       "    <div class=\"bk-root\">\n",
       "        <a href=\"http://bokeh.pydata.org\" target=\"_blank\" class=\"bk-logo bk-logo-small bk-logo-notebook\"></a>\n",
       "        <span id=\"5fa7a21a-6c96-4c20-a126-58f2d51e5b2a\">Loading BokehJS ...</span>\n",
       "    </div>"
      ]
     },
     "metadata": {},
     "output_type": "display_data"
    },
    {
     "data": {
      "application/javascript": [
       "\n",
       "(function(global) {\n",
       "  function now() {\n",
       "    return new Date();\n",
       "  }\n",
       "\n",
       "  if (typeof (window._bokeh_onload_callbacks) === \"undefined\") {\n",
       "    window._bokeh_onload_callbacks = [];\n",
       "  }\n",
       "\n",
       "  function run_callbacks() {\n",
       "    window._bokeh_onload_callbacks.forEach(function(callback) { callback() });\n",
       "    delete window._bokeh_onload_callbacks\n",
       "    console.info(\"Bokeh: all callbacks have finished\");\n",
       "  }\n",
       "\n",
       "  function load_libs(js_urls, callback) {\n",
       "    window._bokeh_onload_callbacks.push(callback);\n",
       "    if (window._bokeh_is_loading > 0) {\n",
       "      console.log(\"Bokeh: BokehJS is being loaded, scheduling callback at\", now());\n",
       "      return null;\n",
       "    }\n",
       "    if (js_urls == null || js_urls.length === 0) {\n",
       "      run_callbacks();\n",
       "      return null;\n",
       "    }\n",
       "    console.log(\"Bokeh: BokehJS not loaded, scheduling load and callback at\", now());\n",
       "    window._bokeh_is_loading = js_urls.length;\n",
       "    for (var i = 0; i < js_urls.length; i++) {\n",
       "      var url = js_urls[i];\n",
       "      var s = document.createElement('script');\n",
       "      s.src = url;\n",
       "      s.async = false;\n",
       "      s.onreadystatechange = s.onload = function() {\n",
       "        window._bokeh_is_loading--;\n",
       "        if (window._bokeh_is_loading === 0) {\n",
       "          console.log(\"Bokeh: all BokehJS libraries loaded\");\n",
       "          run_callbacks()\n",
       "        }\n",
       "      };\n",
       "      s.onerror = function() {\n",
       "        console.warn(\"failed to load library \" + url);\n",
       "      };\n",
       "      console.log(\"Bokeh: injecting script tag for BokehJS library: \", url);\n",
       "      document.getElementsByTagName(\"head\")[0].appendChild(s);\n",
       "    }\n",
       "  };\n",
       "\n",
       "  var js_urls = ['https://cdn.pydata.org/bokeh/release/bokeh-0.12.0.min.js', 'https://cdn.pydata.org/bokeh/release/bokeh-widgets-0.12.0.min.js', 'https://cdn.pydata.org/bokeh/release/bokeh-compiler-0.12.0.min.js'];\n",
       "\n",
       "  var inline_js = [\n",
       "    function(Bokeh) {\n",
       "      Bokeh.set_log_level(\"info\");\n",
       "    },\n",
       "    \n",
       "    function(Bokeh) {\n",
       "      Bokeh.$(\"#5fa7a21a-6c96-4c20-a126-58f2d51e5b2a\").text(\"BokehJS successfully loaded\");\n",
       "    },\n",
       "    function(Bokeh) {\n",
       "      console.log(\"Bokeh: injecting CSS: https://cdn.pydata.org/bokeh/release/bokeh-0.12.0.min.css\");\n",
       "      Bokeh.embed.inject_css(\"https://cdn.pydata.org/bokeh/release/bokeh-0.12.0.min.css\");\n",
       "      console.log(\"Bokeh: injecting CSS: https://cdn.pydata.org/bokeh/release/bokeh-widgets-0.12.0.min.css\");\n",
       "      Bokeh.embed.inject_css(\"https://cdn.pydata.org/bokeh/release/bokeh-widgets-0.12.0.min.css\");\n",
       "    }\n",
       "  ];\n",
       "\n",
       "  function run_inline_js() {\n",
       "    for (var i = 0; i < inline_js.length; i++) {\n",
       "      inline_js[i](window.Bokeh);\n",
       "    }\n",
       "  }\n",
       "\n",
       "  if (window._bokeh_is_loading === 0) {\n",
       "    console.log(\"Bokeh: BokehJS loaded, going straight to plotting\");\n",
       "    run_inline_js();\n",
       "  } else {\n",
       "    load_libs(js_urls, function() {\n",
       "      console.log(\"Bokeh: BokehJS plotting callback run at\", now());\n",
       "      run_inline_js();\n",
       "    });\n",
       "  }\n",
       "}(this));"
      ]
     },
     "metadata": {},
     "output_type": "display_data"
    }
   ],
   "source": [
    "from bokeh.io import output_notebook, show\n",
    "output_notebook()"
   ]
  },
  {
   "cell_type": "code",
   "execution_count": 3,
   "metadata": {
    "collapsed": false
   },
   "outputs": [
    {
     "name": "stdout",
     "output_type": "stream",
     "text": [
      " baz \n",
      "baz\n"
     ]
    },
    {
     "data": {
      "text/html": [
       "\n",
       "\n",
       "    <div class=\"bk-root\">\n",
       "        <div class=\"plotdiv\" id=\"bee860c1-03c9-4039-a65b-8ed2625573ba\"></div>\n",
       "    </div>\n",
       "<script type=\"text/javascript\">\n",
       "  \n",
       "  (function(global) {\n",
       "    function now() {\n",
       "      return new Date();\n",
       "    }\n",
       "  \n",
       "    if (typeof (window._bokeh_onload_callbacks) === \"undefined\") {\n",
       "      window._bokeh_onload_callbacks = [];\n",
       "    }\n",
       "  \n",
       "    function run_callbacks() {\n",
       "      window._bokeh_onload_callbacks.forEach(function(callback) { callback() });\n",
       "      delete window._bokeh_onload_callbacks\n",
       "      console.info(\"Bokeh: all callbacks have finished\");\n",
       "    }\n",
       "  \n",
       "    function load_libs(js_urls, callback) {\n",
       "      window._bokeh_onload_callbacks.push(callback);\n",
       "      if (window._bokeh_is_loading > 0) {\n",
       "        console.log(\"Bokeh: BokehJS is being loaded, scheduling callback at\", now());\n",
       "        return null;\n",
       "      }\n",
       "      if (js_urls == null || js_urls.length === 0) {\n",
       "        run_callbacks();\n",
       "        return null;\n",
       "      }\n",
       "      console.log(\"Bokeh: BokehJS not loaded, scheduling load and callback at\", now());\n",
       "      window._bokeh_is_loading = js_urls.length;\n",
       "      for (var i = 0; i < js_urls.length; i++) {\n",
       "        var url = js_urls[i];\n",
       "        var s = document.createElement('script');\n",
       "        s.src = url;\n",
       "        s.async = false;\n",
       "        s.onreadystatechange = s.onload = function() {\n",
       "          window._bokeh_is_loading--;\n",
       "          if (window._bokeh_is_loading === 0) {\n",
       "            console.log(\"Bokeh: all BokehJS libraries loaded\");\n",
       "            run_callbacks()\n",
       "          }\n",
       "        };\n",
       "        s.onerror = function() {\n",
       "          console.warn(\"failed to load library \" + url);\n",
       "        };\n",
       "        console.log(\"Bokeh: injecting script tag for BokehJS library: \", url);\n",
       "        document.getElementsByTagName(\"head\")[0].appendChild(s);\n",
       "      }\n",
       "    };var element = document.getElementById(\"bee860c1-03c9-4039-a65b-8ed2625573ba\");\n",
       "    if (element == null) {\n",
       "      console.log(\"Bokeh: ERROR: autoload.js configured with elementid 'bee860c1-03c9-4039-a65b-8ed2625573ba' but no matching script tag was found. \")\n",
       "      return false;\n",
       "    }\n",
       "  \n",
       "    var js_urls = [];\n",
       "  \n",
       "    var inline_js = [\n",
       "      function(Bokeh) {\n",
       "        Bokeh.$(function() {\n",
       "            var docs_json = {\"595b4178-7819-4655-86a4-0ce0511e7235\":{\"roots\":{\"references\":[{\"attributes\":{},\"id\":\"e817cca3-2605-4f9e-8447-1de00104fbf6\",\"type\":\"BasicTicker\"},{\"attributes\":{\"callback\":null,\"options\":[\"Brian Dozier\",\"bar\",\"baz\",\"quux\"],\"title\":\"Left Field:\",\"value\":\"bar\"},\"id\":\"dbd987e3-2ac8-43e4-b4d0-2d657811cca8\",\"type\":\"Select\"},{\"attributes\":{\"dimension\":1,\"grid_line_alpha\":{\"value\":0.0},\"plot\":{\"id\":\"7abdefcb-aae2-4f51-8127-793769eeb5b7\",\"subtype\":\"Figure\",\"type\":\"Plot\"},\"ticker\":{\"id\":\"802b7673-9ffa-4a46-8208-4e1fc970ae2c\",\"type\":\"BasicTicker\"}},\"id\":\"019bb136-6f03-460e-a6b5-171a47850168\",\"type\":\"Grid\"},{\"attributes\":{\"fill_alpha\":{\"value\":0.1},\"fill_color\":{\"value\":\"#1f77b4\"},\"line_alpha\":{\"value\":0.1},\"line_color\":{\"value\":\"#1f77b4\"},\"x\":{\"field\":\"x\"},\"y\":{\"field\":\"y\"}},\"id\":\"9175da06-d62e-4048-9889-cd7228571cea\",\"type\":\"Patch\"},{\"attributes\":{\"callback\":null,\"end\":5,\"start\":-1},\"id\":\"e9bc4db1-a6b7-4554-abbb-833660b1ecde\",\"type\":\"Range1d\"},{\"attributes\":{\"callback\":null,\"options\":[\"Joe Mauer\",\"bar\",\"baz\",\"quux\"],\"title\":\"First Base:\",\"value\":\"quux\"},\"id\":\"81d315fa-f9b5-4fc2-9642-c8a3c2d5f972\",\"type\":\"Select\"},{\"attributes\":{\"plot\":{\"id\":\"7abdefcb-aae2-4f51-8127-793769eeb5b7\",\"subtype\":\"Figure\",\"type\":\"Plot\"}},\"id\":\"d2854b08-bf6e-403c-896e-f8a6a1bc7778\",\"type\":\"SaveTool\"},{\"attributes\":{\"callback\":null,\"options\":[\"Brian Dozier\",\"bar\",\"baz\",\"quux\"],\"title\":\"Center Field:\",\"value\":\"bar\"},\"id\":\"97c44553-2fff-420b-8390-d52cea9c71ae\",\"type\":\"Select\"},{\"attributes\":{},\"id\":\"c8010c0a-638d-4504-9a58-efa2a6574185\",\"type\":\"ToolEvents\"},{\"attributes\":{\"callback\":null,\"end\":3,\"start\":-3},\"id\":\"bc9d33ce-9e38-451c-9492-13b38563fbe6\",\"type\":\"Range1d\"},{\"attributes\":{\"data_source\":{\"id\":\"c17fb226-7cfc-49cf-85ab-281fc030c1b6\",\"type\":\"ColumnDataSource\"},\"glyph\":{\"id\":\"5dd53523-b563-40ee-96fa-fcc4101f8900\",\"type\":\"Wedge\"},\"hover_glyph\":null,\"nonselection_glyph\":{\"id\":\"177bc0f4-6e3d-4dcd-b789-dcd416b38599\",\"type\":\"Wedge\"},\"selection_glyph\":null},\"id\":\"8b6a198a-913b-469c-8565-1efcf804d634\",\"type\":\"GlyphRenderer\"},{\"attributes\":{\"background_fill_color\":{\"value\":\"white\"},\"border_line_color\":{\"value\":\"black\"},\"plot\":{\"id\":\"7abdefcb-aae2-4f51-8127-793769eeb5b7\",\"subtype\":\"Figure\",\"type\":\"Plot\"},\"text\":\" quux \",\"text_baseline\":\"alphabetic\",\"x\":1,\"x_offset\":-15,\"y\":1,\"y_offset\":5},\"id\":\"d19346cc-40ed-47f3-8260-7c63f91d0619\",\"type\":\"Label\"},{\"attributes\":{\"background_fill_color\":{\"value\":\"white\"},\"border_line_color\":{\"value\":\"black\"},\"plot\":{\"id\":\"7abdefcb-aae2-4f51-8127-793769eeb5b7\",\"subtype\":\"Figure\",\"type\":\"Plot\"},\"text\":\" bar \",\"text_align\":\"center\",\"text_baseline\":\"alphabetic\",\"x\":0,\"y\":3},\"id\":\"293fa47e-5904-4755-87be-4a6a5bf72e2b\",\"type\":\"Label\"},{\"attributes\":{\"background_fill_color\":{\"value\":\"white\"},\"border_line_color\":{\"value\":\"black\"},\"plot\":{\"id\":\"7abdefcb-aae2-4f51-8127-793769eeb5b7\",\"subtype\":\"Figure\",\"type\":\"Plot\"},\"text\":\" bar \",\"text_align\":\"right\",\"text_baseline\":\"alphabetic\",\"x\":-1,\"x_offset\":15,\"y\":1,\"y_offset\":5},\"id\":\"439a7956-1627-4496-a7d4-b347c60f95ac\",\"type\":\"Label\"},{\"attributes\":{\"background_fill_color\":{\"value\":\"white\"},\"border_line_color\":{\"value\":\"black\"},\"plot\":{\"id\":\"7abdefcb-aae2-4f51-8127-793769eeb5b7\",\"subtype\":\"Figure\",\"type\":\"Plot\"},\"text\":\" bar \",\"text_align\":\"right\",\"text_baseline\":\"alphabetic\",\"x\":-0.2,\"y\":1.8},\"id\":\"f9931e7e-b3e9-418a-a663-267e25c2c995\",\"type\":\"Label\"},{\"attributes\":{\"callback\":null,\"column_names\":[\"x\",\"y\"],\"data\":{\"x\":[0,1,0,-1],\"y\":[0,1,2,1]}},\"id\":\"72506390-ef3a-4f79-97bd-b16885c58f1e\",\"type\":\"ColumnDataSource\"},{\"attributes\":{\"active_drag\":\"auto\",\"active_scroll\":\"auto\",\"active_tap\":\"auto\",\"tools\":[{\"id\":\"c9308b4c-3891-4e6a-9b6c-ff2104fb53e2\",\"type\":\"TapTool\"},{\"id\":\"d2854b08-bf6e-403c-896e-f8a6a1bc7778\",\"type\":\"SaveTool\"},{\"id\":\"89722ac4-feb7-4c81-a38d-3f5dbfd82a72\",\"type\":\"ResetTool\"}]},\"id\":\"0deb7a20-4477-4aa8-a253-b1a27000096a\",\"type\":\"Toolbar\"},{\"attributes\":{\"callback\":null,\"options\":[\"Santana\",\"bar\",\"baz\",\"quux\"],\"title\":\"Pitcher:\",\"value\":\"baz\"},\"id\":\"3ccef77a-405e-4506-9238-15ed05e3c3b5\",\"type\":\"Select\"},{\"attributes\":{},\"id\":\"802b7673-9ffa-4a46-8208-4e1fc970ae2c\",\"type\":\"BasicTicker\"},{\"attributes\":{\"children\":[{\"id\":\"ae9bccd0-8c33-481f-b84c-b1245faf418c\",\"type\":\"WidgetBox\"},{\"id\":\"7abdefcb-aae2-4f51-8127-793769eeb5b7\",\"subtype\":\"Figure\",\"type\":\"Plot\"}]},\"id\":\"79eed971-6d67-407c-99d8-2ad4ca114ca7\",\"type\":\"Row\"},{\"attributes\":{\"end_angle\":{\"units\":\"deg\",\"value\":136.4995},\"fill_alpha\":{\"value\":0.1},\"fill_color\":{\"value\":\"#1f77b4\"},\"line_alpha\":{\"value\":0.1},\"line_color\":{\"value\":\"#1f77b4\"},\"radius\":{\"units\":\"data\",\"value\":3.5},\"start_angle\":{\"units\":\"deg\",\"value\":43.5005},\"x\":{\"value\":0},\"y\":{\"value\":0}},\"id\":\"177bc0f4-6e3d-4dcd-b789-dcd416b38599\",\"type\":\"Wedge\"},{\"attributes\":{\"callback\":null,\"plot\":{\"id\":\"7abdefcb-aae2-4f51-8127-793769eeb5b7\",\"subtype\":\"Figure\",\"type\":\"Plot\"}},\"id\":\"c9308b4c-3891-4e6a-9b6c-ff2104fb53e2\",\"type\":\"TapTool\"},{\"attributes\":{\"fill_color\":{\"value\":\"tan\"},\"x\":{\"field\":\"x\"},\"y\":{\"field\":\"y\"}},\"id\":\"280c9e10-406c-4b3a-bbeb-405c613e66e6\",\"type\":\"Patch\"},{\"attributes\":{\"callback\":null},\"id\":\"c17fb226-7cfc-49cf-85ab-281fc030c1b6\",\"type\":\"ColumnDataSource\"},{\"attributes\":{\"background_fill_color\":{\"value\":\"white\"},\"border_line_color\":{\"value\":\"black\"},\"plot\":{\"id\":\"7abdefcb-aae2-4f51-8127-793769eeb5b7\",\"subtype\":\"Figure\",\"type\":\"Plot\"},\"text\":\" baz \",\"text_align\":\"center\",\"text_baseline\":\"alphabetic\",\"x\":0,\"y\":0.7071067811865476,\"y_offset\":5},\"id\":\"5a7ca724-c80b-4cd1-b423-1f5b33ac6697\",\"type\":\"Label\"},{\"attributes\":{\"callback\":null,\"options\":[\"Jason Castro\",\"bar\",\"baz\",\"quux\"],\"title\":\"Catcher:\",\"value\":\"bar\"},\"id\":\"1b01d3a8-9a13-4562-80b1-f7dbfb2324b4\",\"type\":\"Select\"},{\"attributes\":{\"background_fill_color\":{\"value\":\"white\"},\"border_line_color\":{\"value\":\"black\"},\"plot\":{\"id\":\"7abdefcb-aae2-4f51-8127-793769eeb5b7\",\"subtype\":\"Figure\",\"type\":\"Plot\"},\"text\":\" bar \",\"text_align\":\"center\",\"text_baseline\":\"alphabetic\",\"x\":1.5,\"y\":2.5},\"id\":\"57818635-f6d9-4e85-a653-d8ecce24c767\",\"type\":\"Label\"},{\"attributes\":{\"callback\":null,\"options\":[\"Brian Dozier\",\"bar\",\"baz\",\"quux\"],\"title\":\"Second Base\",\"value\":\"Brian Dozier\"},\"id\":\"b8fedacb-b0bf-40fb-be44-73362a66cf33\",\"type\":\"Select\"},{\"attributes\":{\"grid_line_alpha\":{\"value\":0.0},\"plot\":{\"id\":\"7abdefcb-aae2-4f51-8127-793769eeb5b7\",\"subtype\":\"Figure\",\"type\":\"Plot\"},\"ticker\":{\"id\":\"e817cca3-2605-4f9e-8447-1de00104fbf6\",\"type\":\"BasicTicker\"}},\"id\":\"1cb6c421-e35c-4e7f-ae04-21e9a710e3aa\",\"type\":\"Grid\"},{\"attributes\":{\"callback\":null,\"options\":[\"Brian Dozier\",\"bar\",\"baz\",\"quux\"],\"title\":\"Shortstop:\",\"value\":\"bar\"},\"id\":\"f46c8a7f-7c61-4dfe-94f2-b0bd801abc5c\",\"type\":\"Select\"},{\"attributes\":{\"callback\":null,\"options\":[\"Brian Dozier\",\"bar\",\"baz\",\"quux\"],\"title\":\"Right Field:\",\"value\":\"bar\"},\"id\":\"ef10bec8-97fb-41ca-aab4-9c8514101a0a\",\"type\":\"Select\"},{\"attributes\":{\"plot\":{\"id\":\"7abdefcb-aae2-4f51-8127-793769eeb5b7\",\"subtype\":\"Figure\",\"type\":\"Plot\"}},\"id\":\"89722ac4-feb7-4c81-a38d-3f5dbfd82a72\",\"type\":\"ResetTool\"},{\"attributes\":{\"formatter\":{\"id\":\"e51035f7-8140-40d1-b128-648a5caed35c\",\"type\":\"BasicTickFormatter\"},\"plot\":{\"id\":\"7abdefcb-aae2-4f51-8127-793769eeb5b7\",\"subtype\":\"Figure\",\"type\":\"Plot\"},\"ticker\":{\"id\":\"802b7673-9ffa-4a46-8208-4e1fc970ae2c\",\"type\":\"BasicTicker\"},\"visible\":false},\"id\":\"7643669c-6ce3-4460-96cb-0cf613dbafa0\",\"type\":\"LinearAxis\"},{\"attributes\":{\"children\":[{\"id\":\"3ccef77a-405e-4506-9238-15ed05e3c3b5\",\"type\":\"Select\"},{\"id\":\"1b01d3a8-9a13-4562-80b1-f7dbfb2324b4\",\"type\":\"Select\"},{\"id\":\"81d315fa-f9b5-4fc2-9642-c8a3c2d5f972\",\"type\":\"Select\"},{\"id\":\"b8fedacb-b0bf-40fb-be44-73362a66cf33\",\"type\":\"Select\"},{\"id\":\"f4079d2a-5682-4ad1-aca4-2d30c42e5196\",\"type\":\"Select\"},{\"id\":\"f46c8a7f-7c61-4dfe-94f2-b0bd801abc5c\",\"type\":\"Select\"},{\"id\":\"dbd987e3-2ac8-43e4-b4d0-2d657811cca8\",\"type\":\"Select\"},{\"id\":\"97c44553-2fff-420b-8390-d52cea9c71ae\",\"type\":\"Select\"},{\"id\":\"ef10bec8-97fb-41ca-aab4-9c8514101a0a\",\"type\":\"Select\"}]},\"id\":\"ae9bccd0-8c33-481f-b84c-b1245faf418c\",\"type\":\"WidgetBox\"},{\"attributes\":{\"data_source\":{\"id\":\"72506390-ef3a-4f79-97bd-b16885c58f1e\",\"type\":\"ColumnDataSource\"},\"glyph\":{\"id\":\"280c9e10-406c-4b3a-bbeb-405c613e66e6\",\"type\":\"Patch\"},\"hover_glyph\":null,\"nonselection_glyph\":{\"id\":\"9175da06-d62e-4048-9889-cd7228571cea\",\"type\":\"Patch\"},\"selection_glyph\":null},\"id\":\"a6695df5-b008-41aa-b2aa-6eca068cdfda\",\"type\":\"GlyphRenderer\"},{\"attributes\":{},\"id\":\"e51035f7-8140-40d1-b128-648a5caed35c\",\"type\":\"BasicTickFormatter\"},{\"attributes\":{\"formatter\":{\"id\":\"3151aee9-ff86-4e86-aedc-ca46bf14f111\",\"type\":\"BasicTickFormatter\"},\"plot\":{\"id\":\"7abdefcb-aae2-4f51-8127-793769eeb5b7\",\"subtype\":\"Figure\",\"type\":\"Plot\"},\"ticker\":{\"id\":\"e817cca3-2605-4f9e-8447-1de00104fbf6\",\"type\":\"BasicTicker\"},\"visible\":false},\"id\":\"1e434c2a-6960-4e35-b2b7-5a69c6996112\",\"type\":\"LinearAxis\"},{\"attributes\":{\"below\":[{\"id\":\"1e434c2a-6960-4e35-b2b7-5a69c6996112\",\"type\":\"LinearAxis\"}],\"left\":[{\"id\":\"7643669c-6ce3-4460-96cb-0cf613dbafa0\",\"type\":\"LinearAxis\"}],\"renderers\":[{\"id\":\"1e434c2a-6960-4e35-b2b7-5a69c6996112\",\"type\":\"LinearAxis\"},{\"id\":\"1cb6c421-e35c-4e7f-ae04-21e9a710e3aa\",\"type\":\"Grid\"},{\"id\":\"7643669c-6ce3-4460-96cb-0cf613dbafa0\",\"type\":\"LinearAxis\"},{\"id\":\"019bb136-6f03-460e-a6b5-171a47850168\",\"type\":\"Grid\"},{\"id\":\"8b6a198a-913b-469c-8565-1efcf804d634\",\"type\":\"GlyphRenderer\"},{\"id\":\"a6695df5-b008-41aa-b2aa-6eca068cdfda\",\"type\":\"GlyphRenderer\"},{\"id\":\"a68e7c58-598b-4f56-8fd4-d3663195b397\",\"type\":\"Label\"},{\"id\":\"5a7ca724-c80b-4cd1-b423-1f5b33ac6697\",\"type\":\"Label\"},{\"id\":\"d19346cc-40ed-47f3-8260-7c63f91d0619\",\"type\":\"Label\"},{\"id\":\"a6c9f94d-d946-4371-a679-b603f35896e8\",\"type\":\"Label\"},{\"id\":\"439a7956-1627-4496-a7d4-b347c60f95ac\",\"type\":\"Label\"},{\"id\":\"f9931e7e-b3e9-418a-a663-267e25c2c995\",\"type\":\"Label\"},{\"id\":\"ff7d147d-cda7-406a-b67e-77e657755cb0\",\"type\":\"Label\"},{\"id\":\"293fa47e-5904-4755-87be-4a6a5bf72e2b\",\"type\":\"Label\"},{\"id\":\"57818635-f6d9-4e85-a653-d8ecce24c767\",\"type\":\"Label\"}],\"title\":{\"id\":\"1e870fbd-ab3c-4b65-b567-8d53d6de0d7b\",\"type\":\"Title\"},\"tool_events\":{\"id\":\"c8010c0a-638d-4504-9a58-efa2a6574185\",\"type\":\"ToolEvents\"},\"toolbar\":{\"id\":\"0deb7a20-4477-4aa8-a253-b1a27000096a\",\"type\":\"Toolbar\"},\"toolbar_location\":\"above\",\"x_range\":{\"id\":\"bc9d33ce-9e38-451c-9492-13b38563fbe6\",\"type\":\"Range1d\"},\"y_range\":{\"id\":\"e9bc4db1-a6b7-4554-abbb-833660b1ecde\",\"type\":\"Range1d\"}},\"id\":\"7abdefcb-aae2-4f51-8127-793769eeb5b7\",\"subtype\":\"Figure\",\"type\":\"Plot\"},{\"attributes\":{\"background_fill_color\":{\"value\":\"white\"},\"border_line_color\":{\"value\":\"black\"},\"plot\":{\"id\":\"7abdefcb-aae2-4f51-8127-793769eeb5b7\",\"subtype\":\"Figure\",\"type\":\"Plot\"},\"text\":\" bar \",\"text_align\":\"center\",\"text_baseline\":\"alphabetic\",\"x\":0,\"y\":0,\"y_offset\":-10},\"id\":\"a68e7c58-598b-4f56-8fd4-d3663195b397\",\"type\":\"Label\"},{\"attributes\":{\"background_fill_color\":{\"value\":\"white\"},\"border_line_color\":{\"value\":\"black\"},\"plot\":{\"id\":\"7abdefcb-aae2-4f51-8127-793769eeb5b7\",\"subtype\":\"Figure\",\"type\":\"Plot\"},\"text\":\" Brian Dozier \",\"text_baseline\":\"alphabetic\",\"x\":0.2,\"y\":1.8},\"id\":\"a6c9f94d-d946-4371-a679-b603f35896e8\",\"type\":\"Label\"},{\"attributes\":{\"callback\":null,\"options\":[\"Brian Dozier\",\"bar\",\"baz\",\"quux\"],\"title\":\"Third Base\",\"value\":\"bar\"},\"id\":\"f4079d2a-5682-4ad1-aca4-2d30c42e5196\",\"type\":\"Select\"},{\"attributes\":{\"background_fill_color\":{\"value\":\"white\"},\"border_line_color\":{\"value\":\"black\"},\"plot\":{\"id\":\"7abdefcb-aae2-4f51-8127-793769eeb5b7\",\"subtype\":\"Figure\",\"type\":\"Plot\"},\"text\":\" bar \",\"text_align\":\"center\",\"text_baseline\":\"alphabetic\",\"x\":-1.5,\"y\":2.5},\"id\":\"ff7d147d-cda7-406a-b67e-77e657755cb0\",\"type\":\"Label\"},{\"attributes\":{\"end_angle\":{\"units\":\"deg\",\"value\":136.4995},\"fill_alpha\":{\"value\":0.6},\"fill_color\":{\"value\":\"Green\"},\"line_alpha\":{\"value\":0.6},\"radius\":{\"units\":\"data\",\"value\":3.5},\"start_angle\":{\"units\":\"deg\",\"value\":43.5005},\"x\":{\"value\":0},\"y\":{\"value\":0}},\"id\":\"5dd53523-b563-40ee-96fa-fcc4101f8900\",\"type\":\"Wedge\"},{\"attributes\":{\"plot\":null,\"text\":null},\"id\":\"1e870fbd-ab3c-4b65-b567-8d53d6de0d7b\",\"type\":\"Title\"},{\"attributes\":{},\"id\":\"3151aee9-ff86-4e86-aedc-ca46bf14f111\",\"type\":\"BasicTickFormatter\"}],\"root_ids\":[\"79eed971-6d67-407c-99d8-2ad4ca114ca7\"]},\"title\":\"Bokeh Application\",\"version\":\"0.12.0\"}};\n",
       "            var render_items = [{\"docid\":\"595b4178-7819-4655-86a4-0ce0511e7235\",\"elementid\":\"bee860c1-03c9-4039-a65b-8ed2625573ba\",\"modelid\":\"79eed971-6d67-407c-99d8-2ad4ca114ca7\",\"notebook_comms_target\":\"72aad674-1291-4eff-b689-f1d4b50c9757\"}];\n",
       "            \n",
       "            Bokeh.embed.embed_items(docs_json, render_items);\n",
       "        });\n",
       "      },\n",
       "      function(Bokeh) {\n",
       "      }\n",
       "    ];\n",
       "  \n",
       "    function run_inline_js() {\n",
       "      for (var i = 0; i < inline_js.length; i++) {\n",
       "        inline_js[i](window.Bokeh);\n",
       "      }\n",
       "    }\n",
       "  \n",
       "    if (window._bokeh_is_loading === 0) {\n",
       "      console.log(\"Bokeh: BokehJS loaded, going straight to plotting\");\n",
       "      run_inline_js();\n",
       "    } else {\n",
       "      load_libs(js_urls, function() {\n",
       "        console.log(\"Bokeh: BokehJS plotting callback run at\", now());\n",
       "        run_inline_js();\n",
       "      });\n",
       "    }\n",
       "  }(this));\n",
       "</script>"
      ]
     },
     "metadata": {},
     "output_type": "display_data"
    },
    {
     "data": {
      "text/html": [
       "<p><code>&lt;Bokeh Notebook handle for <strong>In[3]</strong>&gt;</code></p>"
      ],
      "text/plain": [
       "<bokeh.io._CommsHandle at 0x7f9c594e4a90>"
      ]
     },
     "execution_count": 3,
     "metadata": {},
     "output_type": "execute_result"
    }
   ],
   "source": [
    "import pandas as pd\n",
    "import numpy as np\n",
    "import math\n",
    "from bokeh.models import HoverTool, Legend\n",
    "from bokeh.plotting import figure, show\n",
    "#from bokeh.models.annotations import Span\n",
    "from bokeh.models import Range1d, LabelSet, Label\n",
    "from bokeh.models.widgets import Select\n",
    "from bokeh.layouts import column, row, widgetbox\n",
    "from bokeh.io import vform\n",
    "\n",
    "\n",
    "#Set up plot\n",
    "p = figure(tools=['tap', 'save', 'reset'],\n",
    "            width=600, height=600, toolbar_location=\"above\")\n",
    "p.set(x_range=Range1d(-3, 3), y_range=Range1d(-1, 5))\n",
    "p.axis.visible = False\n",
    "p.grid.grid_line_alpha = 0.0 \n",
    "\n",
    "p.wedge(x=0, y=0, radius=3.5, start_angle=45-1.4995, end_angle=135+1.4995,\n",
    "        color=\"Green\", line_color = \"black\", alpha = 0.6, #also try or LimeGreen\n",
    "        start_angle_units=\"deg\", end_angle_units=\"deg\")\n",
    "p.patch(x=[0,1,0,-1], y=[0,1,2,1], line_color = \"black\", color=\"tan\")\n",
    "#p.square(x=0, y=math.sqrt(2), size=50, color=\"tan\", angle = math.pi/4)\n",
    "#p.annotate()\n",
    "\n",
    "\n",
    "select_pitcher_dh = Select(title=\"Pitcher:\", value=\"baz\", options=[\"Santana\", \"bar\", \"baz\", \"quux\"])\n",
    "select_catcher    = Select(title=\"Catcher:\", value=\"bar\", options=[\"Jason Castro\", \"bar\", \"baz\", \"quux\"])\n",
    "select_first      = Select(title=\"First Base:\", value=\"quux\", options=[\"Joe Mauer\", \"bar\", \"baz\", \"quux\"])\n",
    "select_second     = Select(title=\"Second Base\", value=\"Brian Dozier\", options=[\"Brian Dozier\", \"bar\", \"baz\", \"quux\"])\n",
    "select_third      = Select(title=\"Third Base\", value=\"bar\", options=[\"Brian Dozier\", \"bar\", \"baz\", \"quux\"])\n",
    "select_short      = Select(title=\"Shortstop:\", value=\"bar\", options=[\"Brian Dozier\", \"bar\", \"baz\", \"quux\"])\n",
    "select_lfield     = Select(title=\"Left Field:\", value=\"bar\", options=[\"Brian Dozier\", \"bar\", \"baz\", \"quux\"])\n",
    "select_cfield     = Select(title=\"Center Field:\", value=\"bar\", options=[\"Brian Dozier\", \"bar\", \"baz\", \"quux\"])\n",
    "select_rfield     = Select(title=\"Right Field:\", value=\"bar\", options=[\"Brian Dozier\", \"bar\", \"baz\", \"quux\"])\n",
    "\n",
    "position_list = [select_pitcher_dh,select_catcher, select_first, \n",
    "                 select_second, select_third, select_short, select_lfield, \n",
    "                 select_cfield, select_rfield]\n",
    "\n",
    "\n",
    "#Label.background_fill_color = \"white\"\n",
    "\n",
    "# Put text in field\n",
    "pitcher_dh = Label(x=0, y=math.sqrt(2)/2, text = \" \"+select_pitcher_dh.value+\" \", \n",
    "                   x_offset=0, y_offset=5, #render_mode='canvas',\n",
    "                   border_line_color='black',\n",
    "                   background_fill_color='white', \n",
    "                   text_align = 'center', # options are 'left', 'right', 'center'\n",
    "                   text_baseline = \"alphabetic\")\n",
    "\n",
    "catcher = Label(x=0, y=0, text=' '+select_catcher.value+' ', \n",
    "                x_offset=0, y_offset=-10, border_line_color='black',\n",
    "                background_fill_color='white', text_align = 'center', text_baseline = \"alphabetic\")\n",
    "\n",
    "first = Label(x=1, y=1, text=' '+select_first.value+' ',\n",
    "              x_offset=-15, y_offset=5,  border_line_color='black',\n",
    "              background_fill_color='white',  text_align = 'left', text_baseline = \"alphabetic\") \n",
    "\n",
    "second = Label(x=0.2, y=1.8, text=' '+select_second.value+' ',\n",
    "               x_offset=0, y_offset=0, border_line_color='black',\n",
    "               background_fill_color='white', text_align = 'left', text_baseline = \"alphabetic\") \n",
    "\n",
    "third = Label(x=-1, y=1, text=' '+select_third.value+' ',\n",
    "              x_offset=15, y_offset=5,  border_line_color='black',\n",
    "              background_fill_color='white',  text_align = 'right', text_baseline = \"alphabetic\") \n",
    "\n",
    "short = Label(x=-0.2, y=1.8, text=' '+select_short.value+' ',\n",
    "              x_offset=0, y_offset=0, border_line_color='black',\n",
    "              background_fill_color='white', text_align = 'right', text_baseline = \"alphabetic\") \n",
    "\n",
    "lfield = Label(x=-1.5, y=2.5, text=' '+select_lfield.value+' ',\n",
    "               x_offset=0, y_offset=0, border_line_color='black',\n",
    "               background_fill_color='white', text_align = 'center', text_baseline = \"alphabetic\") \n",
    "\n",
    "cfield = Label(x=0, y=3, text=' '+select_cfield.value+' ',\n",
    "               x_offset=0, y_offset=0, border_line_color='black',\n",
    "               background_fill_color='white', text_align = 'center', text_baseline = \"alphabetic\") \n",
    "\n",
    "rfield = Label(x=1.5, y=2.5, text=' '+select_rfield.value+' ',\n",
    "               x_offset=0, y_offset=0, border_line_color='black',\n",
    "               background_fill_color='white', text_align = 'center', text_baseline = \"alphabetic\") \n",
    "\n",
    "p.add_layout(catcher)\n",
    "p.add_layout(pitcher_dh)\n",
    "p.add_layout(first)\n",
    "p.add_layout(second)\n",
    "p.add_layout(third)\n",
    "p.add_layout(short)\n",
    "p.add_layout(lfield)\n",
    "p.add_layout(cfield)\n",
    "p.add_layout(rfield)\n",
    "\n",
    "player_selections = widgetbox(position_list)\n",
    "\n",
    "print(pitcher_dh.text)\n",
    "print(select_pitcher_dh.value)\n",
    "\n",
    "show(row(player_selections, p))"
   ]
  },
  {
   "cell_type": "code",
   "execution_count": 5,
   "metadata": {
    "collapsed": false
   },
   "outputs": [
    {
     "name": "stdout",
     "output_type": "stream",
     "text": [
      "Help on method_descriptor:\n",
      "\n",
      "join(...)\n",
      "    S.join(iterable) -> str\n",
      "    \n",
      "    Return a string which is the concatenation of the strings in the\n",
      "    iterable.  The separator between elements is S.\n",
      "\n"
     ]
    }
   ],
   "source": [
    "help(str.join)"
   ]
  },
  {
   "cell_type": "code",
   "execution_count": null,
   "metadata": {
    "collapsed": true
   },
   "outputs": [],
   "source": []
  },
  {
   "cell_type": "code",
   "execution_count": null,
   "metadata": {
    "collapsed": true
   },
   "outputs": [],
   "source": []
  },
  {
   "cell_type": "code",
   "execution_count": null,
   "metadata": {
    "collapsed": true
   },
   "outputs": [],
   "source": []
  }
 ],
 "metadata": {
  "anaconda-cloud": {},
  "kernelspec": {
   "display_name": "Python [Root]",
   "language": "python",
   "name": "Python [Root]"
  },
  "language_info": {
   "codemirror_mode": {
    "name": "ipython",
    "version": 3
   },
   "file_extension": ".py",
   "mimetype": "text/x-python",
   "name": "python",
   "nbconvert_exporter": "python",
   "pygments_lexer": "ipython3",
   "version": "3.5.2"
  }
 },
 "nbformat": 4,
 "nbformat_minor": 0
}
