{
 "cells": [
  {
   "cell_type": "markdown",
   "metadata": {},
   "source": [
    "**Field Visualization**\n",
    "\n",
    "Goal: using Bokeh, make a passable baseball field diagram drop downs for player positions\n",
    "\n",
    "This is a decent template: https://upload.wikimedia.org/wikipedia/commons/thumb/6/69/Baseball_fielding_positions_tiny.svg/87px-Baseball_fielding_positions_tiny.svg.png"
   ]
  },
  {
   "cell_type": "code",
   "execution_count": 1,
   "metadata": {
    "collapsed": false
   },
   "outputs": [
    {
     "data": {
      "text/html": [
       "\n",
       "    <div class=\"bk-root\">\n",
       "        <a href=\"http://bokeh.pydata.org\" target=\"_blank\" class=\"bk-logo bk-logo-small bk-logo-notebook\"></a>\n",
       "        <span id=\"f7edc037-445e-4dbe-8ec4-b1817af8c606\">Loading BokehJS ...</span>\n",
       "    </div>"
      ]
     },
     "metadata": {},
     "output_type": "display_data"
    },
    {
     "data": {
      "application/javascript": [
       "\n",
       "(function(global) {\n",
       "  function now() {\n",
       "    return new Date();\n",
       "  }\n",
       "\n",
       "  if (typeof (window._bokeh_onload_callbacks) === \"undefined\") {\n",
       "    window._bokeh_onload_callbacks = [];\n",
       "  }\n",
       "\n",
       "  function run_callbacks() {\n",
       "    window._bokeh_onload_callbacks.forEach(function(callback) { callback() });\n",
       "    delete window._bokeh_onload_callbacks\n",
       "    console.info(\"Bokeh: all callbacks have finished\");\n",
       "  }\n",
       "\n",
       "  function load_libs(js_urls, callback) {\n",
       "    window._bokeh_onload_callbacks.push(callback);\n",
       "    if (window._bokeh_is_loading > 0) {\n",
       "      console.log(\"Bokeh: BokehJS is being loaded, scheduling callback at\", now());\n",
       "      return null;\n",
       "    }\n",
       "    if (js_urls == null || js_urls.length === 0) {\n",
       "      run_callbacks();\n",
       "      return null;\n",
       "    }\n",
       "    console.log(\"Bokeh: BokehJS not loaded, scheduling load and callback at\", now());\n",
       "    window._bokeh_is_loading = js_urls.length;\n",
       "    for (var i = 0; i < js_urls.length; i++) {\n",
       "      var url = js_urls[i];\n",
       "      var s = document.createElement('script');\n",
       "      s.src = url;\n",
       "      s.async = false;\n",
       "      s.onreadystatechange = s.onload = function() {\n",
       "        window._bokeh_is_loading--;\n",
       "        if (window._bokeh_is_loading === 0) {\n",
       "          console.log(\"Bokeh: all BokehJS libraries loaded\");\n",
       "          run_callbacks()\n",
       "        }\n",
       "      };\n",
       "      s.onerror = function() {\n",
       "        console.warn(\"failed to load library \" + url);\n",
       "      };\n",
       "      console.log(\"Bokeh: injecting script tag for BokehJS library: \", url);\n",
       "      document.getElementsByTagName(\"head\")[0].appendChild(s);\n",
       "    }\n",
       "  };\n",
       "\n",
       "  var js_urls = ['https://cdn.pydata.org/bokeh/release/bokeh-0.12.0.min.js', 'https://cdn.pydata.org/bokeh/release/bokeh-widgets-0.12.0.min.js', 'https://cdn.pydata.org/bokeh/release/bokeh-compiler-0.12.0.min.js'];\n",
       "\n",
       "  var inline_js = [\n",
       "    function(Bokeh) {\n",
       "      Bokeh.set_log_level(\"info\");\n",
       "    },\n",
       "    \n",
       "    function(Bokeh) {\n",
       "      Bokeh.$(\"#f7edc037-445e-4dbe-8ec4-b1817af8c606\").text(\"BokehJS successfully loaded\");\n",
       "    },\n",
       "    function(Bokeh) {\n",
       "      console.log(\"Bokeh: injecting CSS: https://cdn.pydata.org/bokeh/release/bokeh-0.12.0.min.css\");\n",
       "      Bokeh.embed.inject_css(\"https://cdn.pydata.org/bokeh/release/bokeh-0.12.0.min.css\");\n",
       "      console.log(\"Bokeh: injecting CSS: https://cdn.pydata.org/bokeh/release/bokeh-widgets-0.12.0.min.css\");\n",
       "      Bokeh.embed.inject_css(\"https://cdn.pydata.org/bokeh/release/bokeh-widgets-0.12.0.min.css\");\n",
       "    }\n",
       "  ];\n",
       "\n",
       "  function run_inline_js() {\n",
       "    for (var i = 0; i < inline_js.length; i++) {\n",
       "      inline_js[i](window.Bokeh);\n",
       "    }\n",
       "  }\n",
       "\n",
       "  if (window._bokeh_is_loading === 0) {\n",
       "    console.log(\"Bokeh: BokehJS loaded, going straight to plotting\");\n",
       "    run_inline_js();\n",
       "  } else {\n",
       "    load_libs(js_urls, function() {\n",
       "      console.log(\"Bokeh: BokehJS plotting callback run at\", now());\n",
       "      run_inline_js();\n",
       "    });\n",
       "  }\n",
       "}(this));"
      ]
     },
     "metadata": {},
     "output_type": "display_data"
    }
   ],
   "source": [
    "from bokeh.io import output_notebook, show\n",
    "output_notebook()"
   ]
  },
  {
   "cell_type": "code",
   "execution_count": 2,
   "metadata": {
    "collapsed": false
   },
   "outputs": [],
   "source": [
    "import pandas as pd\n",
    "import numpy as np\n",
    "import math\n",
    "from bokeh.models import HoverTool, Legend\n",
    "from bokeh.plotting import figure, show\n",
    "#from bokeh.models.annotations import Span\n",
    "from bokeh.models import Range1d, LabelSet, Label\n",
    "\n",
    "\n",
    "#Set up plot\n",
    "p = figure(tools=['tap', 'save', 'reset'],\n",
    "            width=500, height=500, toolbar_location=\"above\")\n",
    "p.set(x_range=Range1d(-3, 3), y_range=Range1d(-1, 5))\n",
    "p.axis.visible = False\n",
    "p.grid.grid_line_alpha = 0.0 \n",
    "\n",
    "p.wedge(x=0, y=0, radius=3.5, start_angle=45-1.4995, end_angle=135+1.4995,\n",
    "        color=\"Green\", line_color = \"black\", alpha = 0.6, #also try or LimeGreen\n",
    "        start_angle_units=\"deg\", end_angle_units=\"deg\")\n",
    "p.patch(x=[0,1,0,-1], y=[0,1,2,1], line_color = \"black\", color=\"tan\")\n",
    "#p.square(x=0, y=math.sqrt(2), size=50, color=\"tan\", angle = math.pi/4)\n",
    "#p.annotate()\n",
    "\n",
    "catcher = Label(x=0, y=0, text=' Catcher ',\n",
    "                x_offset=0, y_offset=-10, #render_mode='canvas', \n",
    "                border_line_color='black',\n",
    "                background_fill_color='white', \n",
    "                text_align = 'center', # options are 'left', 'right', 'center'\n",
    "                text_baseline = \"alphabetic\") # options are 'top', 'middle', 'bottom', 'alphabetic', 'hanging' \n",
    "\n",
    "pitcher = Label(x=0, y=math.sqrt(2)/2, text=' Pitcher/DH ',\n",
    "                x_offset=0, y_offset=5, \n",
    "                border_line_color='black',\n",
    "                background_fill_color='white', \n",
    "                text_align = 'center', # options are 'left', 'right', 'center'\n",
    "                text_baseline = \"alphabetic\") # options are 'top', 'middle', 'bottom', 'alphabetic', 'hanging'\n",
    "\n",
    "first = Label(x=1, y=1, text=' First Base ',\n",
    "                x_offset=-15, y_offset=5, #render_mode='canvas', \n",
    "                border_line_color='black',\n",
    "                background_fill_color='white', \n",
    "                text_align = 'left', # options are 'left', 'right', 'center'\n",
    "                text_baseline = \"alphabetic\") # options are 'top', 'middle', 'bottom', 'alphabetic', 'hanging'\n",
    "\n",
    "third = Label(x=-1, y=1, text=' Third Base ',\n",
    "                x_offset=15, y_offset=5, #render_mode='canvas', \n",
    "                border_line_color='black',\n",
    "                background_fill_color='white', \n",
    "                text_align = 'right', # options are 'left', 'right', 'center'\n",
    "                text_baseline = \"alphabetic\") # options are 'top', 'middle', 'bottom', 'alphabetic', 'hanging'\n",
    "\n",
    "second = Label(x=0.2, y=1.8, text=' Second Base ',\n",
    "                x_offset=0, y_offset=0, #render_mode='canvas', \n",
    "                border_line_color='black',\n",
    "                background_fill_color='white', \n",
    "                text_align = 'left', # options are 'left', 'right', 'center'\n",
    "                text_baseline = \"alphabetic\") # options are 'top', 'middle', 'bottom', 'alphabetic', 'hanging'\n",
    "\n",
    "shortstop = Label(x=-0.2, y=1.8, text=' Shortstop ',\n",
    "                x_offset=0, y_offset=0, #render_mode='canvas', \n",
    "                border_line_color='black',\n",
    "                background_fill_color='white', \n",
    "                text_align = 'right', # options are 'left', 'right', 'center'\n",
    "                text_baseline = \"alphabetic\") # options are 'top', 'middle', 'bottom', 'alphabetic', 'hanging'\n",
    "\n",
    "lfield = Label(x=-1.5, y=2.5, text=' Left Field ',\n",
    "                x_offset=0, y_offset=0, #render_mode='canvas', \n",
    "                border_line_color='black',\n",
    "                background_fill_color='white', \n",
    "                text_align = 'center', # options are 'left', 'right', 'center'\n",
    "                text_baseline = \"alphabetic\") # options are 'top', 'middle', 'bottom', 'alphabetic', 'hanging'\n",
    "\n",
    "cfield = Label(x=0, y=3, text=' Center Field ',\n",
    "                x_offset=0, y_offset=0, #render_mode='canvas', \n",
    "                border_line_color='black',\n",
    "                background_fill_color='white', \n",
    "                text_align = 'center', # options are 'left', 'right', 'center'\n",
    "                text_baseline = \"alphabetic\") # options are 'top', 'middle', 'bottom', 'alphabetic', 'hanging'\n",
    "\n",
    "rfield = Label(x=1.5, y=2.5, text=' Right Field ',\n",
    "                x_offset=0, y_offset=0, #render_mode='canvas', \n",
    "                border_line_color='black',\n",
    "                background_fill_color='white', \n",
    "                text_align = 'center', # options are 'left', 'right', 'center'\n",
    "                text_baseline = \"alphabetic\") # options are 'top', 'middle', 'bottom', 'alphabetic', 'hanging'\n",
    "\n",
    "p.add_layout(catcher)\n",
    "p.add_layout(pitcher)\n",
    "p.add_layout(first)\n",
    "p.add_layout(second)\n",
    "p.add_layout(third)\n",
    "p.add_layout(shortstop)\n",
    "p.add_layout(lfield)\n",
    "p.add_layout(cfield)\n",
    "p.add_layout(rfield)\n",
    "show(p)"
   ]
  },
  {
   "cell_type": "code",
   "execution_count": null,
   "metadata": {
    "collapsed": false
   },
   "outputs": [],
   "source": []
  },
  {
   "cell_type": "code",
   "execution_count": null,
   "metadata": {
    "collapsed": true
   },
   "outputs": [],
   "source": []
  },
  {
   "cell_type": "code",
   "execution_count": null,
   "metadata": {
    "collapsed": true
   },
   "outputs": [],
   "source": []
  },
  {
   "cell_type": "code",
   "execution_count": null,
   "metadata": {
    "collapsed": true
   },
   "outputs": [],
   "source": []
  }
 ],
 "metadata": {
  "anaconda-cloud": {},
  "kernelspec": {
   "display_name": "Python [Root]",
   "language": "python",
   "name": "Python [Root]"
  },
  "language_info": {
   "codemirror_mode": {
    "name": "ipython",
    "version": 3
   },
   "file_extension": ".py",
   "mimetype": "text/x-python",
   "name": "python",
   "nbconvert_exporter": "python",
   "pygments_lexer": "ipython3",
   "version": "3.5.2"
  }
 },
 "nbformat": 4,
 "nbformat_minor": 0
}
