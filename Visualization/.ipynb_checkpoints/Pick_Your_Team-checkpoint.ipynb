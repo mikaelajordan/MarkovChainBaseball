{
 "cells": [
  {
   "cell_type": "code",
   "execution_count": 50,
   "metadata": {
    "collapsed": false,
    "deletable": true,
    "editable": true
   },
   "outputs": [],
   "source": [
    "import pandas as pd\n",
    "import numpy as np\n",
    "#import itertools\n",
    "import random"
   ]
  },
  {
   "cell_type": "code",
   "execution_count": 6,
   "metadata": {
    "collapsed": true,
    "deletable": true,
    "editable": true
   },
   "outputs": [],
   "source": [
    "players_df=pd.read_csv(\"../Baseball_Data/predicted_player_types.csv\", index_col=0)"
   ]
  },
  {
   "cell_type": "code",
   "execution_count": 7,
   "metadata": {
    "collapsed": true,
    "deletable": true,
    "editable": true
   },
   "outputs": [],
   "source": [
    "trans_type=[(),(),(),()]\n",
    "for i in range(0,4):\n",
    "    trans_type[i]=pd.read_csv(\"../Baseball_Data/transition_matrix_type%d\"%i,index_col=0)"
   ]
  },
  {
   "cell_type": "code",
   "execution_count": 8,
   "metadata": {
    "collapsed": true,
    "deletable": true,
    "editable": true
   },
   "outputs": [],
   "source": [
    "def make_empty_transition_matrix():\n",
    "    \"\"\"\n",
    "    Initialize a transition matrix with row and column names and zero entries.\n",
    "    \"\"\"\n",
    "    state_vector = pd.Series([\n",
    "                    (0,''), (0,'1'), (0,'2'), (0,'3'), (0,'12'), (0,'13'), (0,'23'), (0,'123'),\n",
    "                    (1,''), (1,'1'), (1,'2'), (1,'3'), (1,'12'), (1,'13'), (1,'23'), (1,'123'),\n",
    "                    (2,''), (2,'1'), (2,'2'), (2,'3'), (2,'12'), (2,'13'), (2,'23'), (2,'123'),\n",
    "                    '0', '1', '2', '3'])\n",
    "    t_matrix = pd.DataFrame(0, columns=state_vector, index = state_vector)\n",
    "    #print(t_matrix.shape)\n",
    "    return(t_matrix)\n"
   ]
  },
  {
   "cell_type": "code",
   "execution_count": 41,
   "metadata": {
    "collapsed": true
   },
   "outputs": [],
   "source": [
    "def run_matrix():\n",
    "    states=[(0,''), (0,'1'), (0,'2'), (0,'3'), (0, '12'), (0,'13'), (0,'23'), (0,'123'),\n",
    "        (1,''), (1,'1'), (1,'2'), (3,'3'), (1, '12'), (1,'13'), (1,'23'), (1,'123'),\n",
    "        (2,''), (2,'1'), (2,'2'), (2,'3'), (2, '12'), (2,'13'), (2,'23'),(2,'123'), '0', '1', '2', '3']\n",
    "    R1=pd.DataFrame(np.reshape(np.zeros(28*28), (28,28)))\n",
    "    R1.columns=states\n",
    "    R1.index=states\n",
    "    for i in states:\n",
    "        if len(i)==2:\n",
    "            i_out=i[0]\n",
    "            i_runners=len(str(i[1]))\n",
    "            for j in states:\n",
    "                if len(j)==2:\n",
    "                    j_out=j[0]\n",
    "                    j_runners=len(str(j[1]))\n",
    "                    R1.ix[i,j]=(i_out+i_runners+1)-(j_out+j_runners)\n",
    "                else:\n",
    "                    R1.ix[i,j]=int(j)\n",
    "        else:\n",
    "            for j in states:\n",
    "                R1.ix[i,j]=int(i)\n",
    "        R1[R1<0]=0\n",
    "    return(R1)"
   ]
  },
  {
   "cell_type": "code",
   "execution_count": 9,
   "metadata": {
    "collapsed": true,
    "deletable": true,
    "editable": true
   },
   "outputs": [],
   "source": [
    "#practice list\n",
    "practice=list(players_df.index[0:9])"
   ]
  },
  {
   "cell_type": "code",
   "execution_count": 63,
   "metadata": {
    "collapsed": false,
    "deletable": true,
    "editable": true
   },
   "outputs": [],
   "source": [
    "#Not there yet \n",
    "\"\"\"\n",
    "def pick_your_team_markov(list_of_nine):\n",
    "    #Making a dictionary with player combo transition matrix\n",
    "    matrix_list=[]\n",
    "    for player in list_of_nine:\n",
    "        probs=players_df.ix[player]\n",
    "        mat=[(),(),(),()]\n",
    "        for i in range(0,4):\n",
    "            mat[i]=trans_type[i].multiply(probs[i])\n",
    "        df_sum=((mat[0].add(mat[1])).add(mat[2])).add(mat[3])\n",
    "        matrix_list+=[df_sum]\n",
    "    trans_dict = dict(zip(list_of_nine, matrix_list))\n",
    "    possible_orders=list(itertools.permutations(list_of_nine, 9))\n",
    "    #randnum=random.randrange(0,362000,1)\n",
    "    #order=possible_orders[randnum]\n",
    "    p=[]\n",
    "    for i in possible_orders:\n",
    "        order_list=[trans_dict[x] for x in i]\n",
    "        x0=np.concatenate([[1], np.zeros(27)])\n",
    "        x=[x0]\n",
    "        for i in range(1,10):\n",
    "            vec=np.matmul(x[i-1],order_list[i-1])\n",
    "            x+=[vec]\n",
    "        Q=[]\n",
    "        for i in range(0, len(x)-1):\n",
    "            runs=np.matmul(np.matmul(x[i], run_matrix()), x[i+1])\n",
    "            Q+=[runs]    \n",
    "        p+=[sum(Q)*9]\n",
    "    return max(p)\n",
    "\"\"\"\n",
    "    "
   ]
  },
  {
   "cell_type": "code",
   "execution_count": 72,
   "metadata": {
    "collapsed": false,
    "deletable": true,
    "editable": true
   },
   "outputs": [],
   "source": [
    "def pick_your_team_markov(list_of_nine):\n",
    "    #Making a dictionary with player combo transition matrix\n",
    "    matrix_list=[]\n",
    "    for player in list_of_nine:\n",
    "        probs=players_df.ix[player]\n",
    "        mat=[(),(),(),()]\n",
    "        for i in range(0,4):\n",
    "            mat[i]=trans_type[i].multiply(probs[i])\n",
    "        df_sum=((mat[0].add(mat[1])).add(mat[2])).add(mat[3])\n",
    "        matrix_list+=[df_sum]\n",
    "    trans_dict = dict(zip(list_of_nine, matrix_list))\n",
    "    possible_orders=list(itertools.permutations(list_of_nine, 9))\n",
    "    randnum=random.randrange(0,362000,1)\n",
    "    order=possible_orders[randnum]\n",
    "    for i in possible_orders:\n",
    "        order_list=[trans_dict[x] for x in order]\n",
    "        x0=np.concatenate([[1], np.zeros(27)])\n",
    "        x=[x0]\n",
    "        for i in range(1,10):\n",
    "            vec=np.matmul(x[i-1],order_list[i-1])\n",
    "            x+=[vec]\n",
    "        Q=[]\n",
    "        for i in range(0, len(x)-1):\n",
    "            runs=np.matmul(np.matmul(x[i], run_matrix()), x[i+1])\n",
    "            Q+=[runs]    \n",
    "        return sum(Q)*9\n",
    "\n",
    "    "
   ]
  },
  {
   "cell_type": "code",
   "execution_count": 75,
   "metadata": {
    "collapsed": false,
    "deletable": true,
    "editable": true
   },
   "outputs": [
    {
     "data": {
      "text/plain": [
       "5.3780724893989156"
      ]
     },
     "execution_count": 75,
     "metadata": {},
     "output_type": "execute_result"
    }
   ],
   "source": [
    "pick_your_team_markov(practice)"
   ]
  },
  {
   "cell_type": "code",
   "execution_count": null,
   "metadata": {
    "collapsed": true,
    "deletable": true,
    "editable": true
   },
   "outputs": [],
   "source": []
  }
 ],
 "metadata": {
  "kernelspec": {
   "display_name": "Python [Root]",
   "language": "python",
   "name": "Python [Root]"
  },
  "language_info": {
   "codemirror_mode": {
    "name": "ipython",
    "version": 3
   },
   "file_extension": ".py",
   "mimetype": "text/x-python",
   "name": "python",
   "nbconvert_exporter": "python",
   "pygments_lexer": "ipython3",
   "version": "3.5.2"
  }
 },
 "nbformat": 4,
 "nbformat_minor": 2
}
