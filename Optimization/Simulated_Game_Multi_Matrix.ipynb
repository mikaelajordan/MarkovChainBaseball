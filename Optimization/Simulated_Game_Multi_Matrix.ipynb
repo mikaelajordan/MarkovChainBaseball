{
 "cells": [
  {
   "cell_type": "code",
   "execution_count": 1,
   "metadata": {
    "collapsed": true
   },
   "outputs": [],
   "source": [
    "import pandas as pd\n",
    "import numpy as np\n",
    "import os\n",
    "from markov_functions import *\n",
    "#Change to Optimization\n",
    "os.chdir(\"/home/adam/Documents/MarkovChainBaseball/Optimization//\")"
   ]
  },
  {
   "cell_type": "code",
   "execution_count": 2,
   "metadata": {
    "collapsed": true
   },
   "outputs": [],
   "source": [
    "batting_data= import_raw_batting_data()"
   ]
  },
  {
   "cell_type": "code",
   "execution_count": 4,
   "metadata": {
    "collapsed": false
   },
   "outputs": [],
   "source": [
    "yankees_batting=find_team_atbats(\"NYA\", batting_data)"
   ]
  },
  {
   "cell_type": "code",
   "execution_count": 6,
   "metadata": {
    "collapsed": true
   },
   "outputs": [],
   "source": [
    "yankees_players=make_team_transition_matrix(\"NYA\")"
   ]
  },
  {
   "cell_type": "code",
   "execution_count": 16,
   "metadata": {
    "collapsed": false
   },
   "outputs": [],
   "source": [
    "yanks_starting9=['gardb001','ellsj001', 'sancg002',\n",
    "                'beltc001','teixm001', 'casts001',  \n",
    "                'gregd001', 'headc001', 'mccab002']\n",
    "starting9_transitions=[yankees_players[x] for x in yanks_starting9]"
   ]
  },
  {
   "cell_type": "code",
   "execution_count": 51,
   "metadata": {
    "collapsed": true
   },
   "outputs": [],
   "source": [
    "def simulated_inning(transition_matrix_list, starting_batter):\n",
    "    if len(transition_matrix_list)!=9:\n",
    "        return \"Can only play with 9 players!\"\n",
    "    possible_states=[(0,''), (0,'1'), (0,'2'), (0,'3'), (0, '12'), (0,'13'), (0,'23'), (0,'123'),\n",
    "                        (1,''), (1,'1'), (1,'2'), (3,'3'), (1, '12'), (1,'13'), (1,'23'), (1,'123'),\n",
    "                        (2,''), (2,'1'), (2,'2'), (2,'3'), (2, '12'), (2,'13'), (2,'23'),(2,'123'), \n",
    "                         '0', '1', '2', '3']\n",
    "    \n",
    "    current_state=np.random.choice(transition_matrix_list[starting_batter].index, size=1, \n",
    "                                   p=transition_matrix_list[starting_batter].iloc[0,:])[0]\n",
    "    all_states=[(0,''),current_state]\n",
    "    current_batter=starting_batter+1\n",
    "    while current_state in possible_states[0:23]:\n",
    "        next_state=np.random.choice(transition_matrix_list[current_batter].index, size=1, \n",
    "                                p=transition_matrix_list[current_batter].ix[[current_state], :].values[0])[0]\n",
    "        all_states+=[next_state]\n",
    "        current_state=next_state\n",
    "        current_batter=(current_batter+1)%8\n",
    "        runmatrix=run_matrix()\n",
    "    runs=0\n",
    "    for i in range(len(all_states)-1):\n",
    "        runs+=runmatrix.ix[[all_states[i]], [all_states[i+1]]].values[0][0]\n",
    "    return runs, all_states, current_batter"
   ]
  },
  {
   "cell_type": "code",
   "execution_count": 32,
   "metadata": {
    "collapsed": false
   },
   "outputs": [
    {
     "name": "stdout",
     "output_type": "stream",
     "text": [
      "(0.0, [(0, ''), (0, '1'), (0, '12'), (1, '23'), (1, '123'), (2, '123')], 5)\n",
      "(0.0, [(0, ''), (1, ''), (1, '1'), '0'], 3)\n",
      "(0.0, [(0, ''), (1, ''), (1, '1'), '0'], 3)\n",
      "(0.0, [(0, ''), (0, '1'), (1, '1'), '0'], 3)\n",
      "(0.0, [(0, ''), (0, '1'), (2, ''), '0'], 3)\n",
      "(2.0, [(0, ''), (0, '1'), (1, '1'), (2, ''), (2, ''), '0'], 5)\n",
      "(4.0, [(0, ''), (1, ''), (1, '1'), (1, ''), (1, '1'), (1, ''), (1, '1'), (1, '12'), (2, '12'), '0'], 0)\n",
      "(0.0, [(0, ''), (1, ''), (2, ''), '0'], 3)\n",
      "(0.0, [(0, ''), (1, ''), (2, ''), '0'], 3)\n",
      "(1.0, [(0, ''), (0, '1'), (1, '2'), (2, '2'), (2, '3'), '0'], 5)\n",
      "(1.0, [(0, ''), (1, ''), (1, ''), (2, ''), '0'], 4)\n",
      "(0.0, [(0, ''), (1, ''), (2, ''), '0'], 3)\n",
      "(1.0, [(0, ''), (1, ''), (2, ''), (2, '2'), (2, '3'), '0'], 5)\n",
      "(0.0, [(0, ''), (0, '1'), (1, '1'), (2, '1'), '0'], 4)\n",
      "(2.0, [(0, ''), (0, ''), (0, '1'), (1, '1'), (1, '13'), (2, '13'), (2, '12'), '0'], 7)\n",
      "(1.0, [(0, ''), (1, ''), (2, ''), (2, ''), '0'], 4)\n",
      "(0.0, [(0, ''), (0, '1'), (1, '1'), (1, '12'), (2, '12'), '0'], 5)\n",
      "(2.0, [(0, ''), (0, '1'), (0, ''), (1, ''), (1, '1'), (2, '1'), '0'], 6)\n",
      "(0.0, [(0, ''), (1, ''), (2, ''), (2, '1'), '0'], 4)\n",
      "(0.0, [(0, ''), (1, ''), (2, ''), '0'], 3)\n",
      "(3.0, [(0, ''), (1, ''), (2, ''), (2, '1'), (2, '12'), (2, ''), '0'], 6)\n",
      "(2.0, [(0, ''), (0, '1'), (1, '1'), (2, '1'), (2, ''), '0'], 5)\n",
      "(2.0, [(0, ''), (0, '2'), (0, '12'), (1, '12'), (1, '13'), (2, '2'), '0'], 6)\n",
      "(0.0, [(0, ''), (0, '1'), (0, '12'), (1, '12'), (1, '123'), (2, '123')], 5)\n",
      "(0.0, [(0, ''), (1, ''), (2, ''), (2, '1'), '0'], 4)\n",
      "(1.0, [(0, ''), (1, ''), (2, ''), (2, '2'), (2, '3'), '0'], 5)\n",
      "(1.0, [(0, ''), (1, ''), (2, ''), (2, '1'), (2, '12'), (2, '13'), '0'], 6)\n",
      "(3.0, [(0, ''), (0, '1'), (0, ''), (0, ''), (0, '1'), (1, '1'), '0'], 6)\n",
      "(0.0, [(0, ''), (1, ''), (2, ''), '0'], 3)\n",
      "(0.0, [(0, ''), (1, ''), (2, ''), '0'], 3)\n"
     ]
    }
   ],
   "source": [
    "for i in range(30):\n",
    "    print(simulated_inning_team(starting9_transitions, 0))"
   ]
  },
  {
   "cell_type": "code",
   "execution_count": 54,
   "metadata": {
    "collapsed": false
   },
   "outputs": [],
   "source": [
    "def simulated_game(transition_matrix_list):\n",
    "    \"\"\"\n",
    "    Given a list of transition matrices, this function will return a \n",
    "    \"\"\"\n",
    "    innings=[]\n",
    "    inning=1\n",
    "    batter=0\n",
    "    while inning<=9:\n",
    "        current=simulated_inning(transition_matrix_list, batter)\n",
    "        innings+=[current]\n",
    "        batter+=current[2]\n",
    "        batter=batter%8\n",
    "        inning+=1\n",
    "    return sum([x[0] for x in innings])\n",
    "        "
   ]
  },
  {
   "cell_type": "code",
   "execution_count": 64,
   "metadata": {
    "collapsed": false
   },
   "outputs": [
    {
     "data": {
      "text/plain": [
       "3.0"
      ]
     },
     "execution_count": 64,
     "metadata": {},
     "output_type": "execute_result"
    }
   ],
   "source": [
    "simulated_game(starting9_transitions)"
   ]
  },
  {
   "cell_type": "code",
   "execution_count": null,
   "metadata": {
    "collapsed": false
   },
   "outputs": [],
   "source": []
  },
  {
   "cell_type": "code",
   "execution_count": null,
   "metadata": {
    "collapsed": true
   },
   "outputs": [],
   "source": []
  }
 ],
 "metadata": {
  "kernelspec": {
   "display_name": "Python 3",
   "language": "python",
   "name": "python3"
  },
  "language_info": {
   "codemirror_mode": {
    "name": "ipython",
    "version": 3
   },
   "file_extension": ".py",
   "mimetype": "text/x-python",
   "name": "python",
   "nbconvert_exporter": "python",
   "pygments_lexer": "ipython3",
   "version": "3.5.2"
  }
 },
 "nbformat": 4,
 "nbformat_minor": 2
}
