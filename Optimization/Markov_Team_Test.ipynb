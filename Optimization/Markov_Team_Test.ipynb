{
 "cells": [
  {
   "cell_type": "markdown",
   "metadata": {
    "deletable": true,
    "editable": true
   },
   "source": [
    "This is an example of a basic Markov chain to predict the number of runs a team will score. The transition matrix used is made from an entire team (NYY). Essentially, if the average NYY was always the batter, this is what we could expect to occur. All the functions we need are saved in markov_functions.py."
   ]
  },
  {
   "cell_type": "code",
   "execution_count": 2,
   "metadata": {
    "collapsed": false,
    "deletable": true,
    "editable": true
   },
   "outputs": [
    {
     "name": "stdout",
     "output_type": "stream",
     "text": [
      "bos.txt (6483, 36)\n",
      "sea.txt (6350, 36)\n",
      "bal.txt (6177, 36)\n",
      "det.txt (6162, 36)\n",
      "sdn.txt (6427, 36)\n",
      "kca.txt (6479, 36)\n",
      "tor.txt (6397, 36)\n",
      "oak.txt (6156, 36)\n",
      "ari.txt (6723, 36)\n",
      "tex.txt (6371, 36)\n",
      "sfn.txt (6381, 36)\n",
      "tba.txt (6239, 36)\n",
      "sln.txt (6305, 36)\n",
      "chn.txt (6350, 36)\n",
      "nyn.txt (6284, 36)\n",
      "pit.txt (6446, 36)\n",
      "cle.txt (6349, 36)\n",
      "ana.txt (6254, 36)\n",
      "nya.txt (6196, 36)\n",
      "mia.txt (6174, 36)\n",
      "cha.txt (6254, 36)\n",
      "cin.txt (6440, 36)\n",
      "col.txt (6666, 36)\n",
      "min.txt (6561, 36)\n",
      "hou.txt (6418, 36)\n",
      "phi.txt (6279, 36)\n",
      "lan.txt (6097, 36)\n",
      "atl.txt (6591, 36)\n",
      "mil.txt (6380, 36)\n",
      "was.txt (6328, 36)\n"
     ]
    }
   ],
   "source": [
    "import numpy as np\n",
    "import pandas as pd\n",
    "import pickle\n",
    "import os\n",
    "\n",
    "#os.chdir('/home/adam/Documents/MarkovChainBaseball/')\n",
    "os.chdir('/home/david/Desktop/Link to GitRepos/MarkovChainBaseball/')\n",
    "\n",
    "#from baseball_functions import run_matrix, get_raw_data\n",
    "from markov_functions import (find_team_atbats, import_raw_batting_data, run_matrix,\n",
    "                                                    find_states, make_empty_transition_matrix, \n",
    "                                                    make_transition_matrix)\n",
    "\n",
    "batting=import_raw_batting_data()\n"
   ]
  },
  {
   "cell_type": "code",
   "execution_count": 3,
   "metadata": {
    "collapsed": false,
    "deletable": true,
    "editable": true
   },
   "outputs": [],
   "source": [
    "yankees_atbats=find_team_atbats(\"NYA\", batting)\n",
    "nyy_transition=make_transition_matrix(yankees_atbats)"
   ]
  },
  {
   "cell_type": "markdown",
   "metadata": {
    "deletable": true,
    "editable": true
   },
   "source": [
    "Here we want to build a probability distribution vector for each iteration. x0 is the vector that we will always start with in a markov chain. It is [1,0,0,0,0,.....] saying we start in the forst position. Then we calculate each subsequent vector by multiplying the previous vector by the transition matrix. "
   ]
  },
  {
   "cell_type": "code",
   "execution_count": 4,
   "metadata": {
    "collapsed": false,
    "deletable": true,
    "editable": true
   },
   "outputs": [],
   "source": [
    "def prob_vec(transition_mat, iterations):\n",
    "    x0=np.concatenate([[1], np.zeros(27)])\n",
    "    x=[x0]\n",
    "    for i in range(1,iterations):\n",
    "        vec=np.matmul(x[i-1],transition_mat)\n",
    "        x+=[vec]\n",
    "    return x"
   ]
  },
  {
   "cell_type": "markdown",
   "metadata": {
    "deletable": true,
    "editable": true
   },
   "source": [
    "Next, we find the predicted runs (expected number of runs) per at bat by x[i]*T*x[i+1] where * denotes matrix multiplication. Then sum the numbers and multiply by 9 to get our expected runs per game."
   ]
  },
  {
   "cell_type": "code",
   "execution_count": 5,
   "metadata": {
    "collapsed": false,
    "deletable": true,
    "editable": true
   },
   "outputs": [],
   "source": [
    "def predicted_runs(probability_vectors):\n",
    "    Q=[]\n",
    "    for i in range(0, len(probability_vectors)-1):\n",
    "        runs=np.matmul(np.matmul(probability_vectors[i], run_matrix()), probability_vectors[i+1])\n",
    "        Q+=[runs]\n",
    "    return(Q)\n",
    "    "
   ]
  },
  {
   "cell_type": "code",
   "execution_count": 7,
   "metadata": {
    "collapsed": false,
    "deletable": true,
    "editable": true
   },
   "outputs": [
    {
     "data": {
      "text/plain": [
       "5.1302860308754816"
      ]
     },
     "execution_count": 7,
     "metadata": {},
     "output_type": "execute_result"
    }
   ],
   "source": [
    "sum(predicted_runs(prob_vec(nyy_transition, 10)))*9"
   ]
  },
  {
   "cell_type": "markdown",
   "metadata": {
    "deletable": true,
    "editable": true
   },
   "source": [
    "Now to make this in one function, named team_Markov."
   ]
  },
  {
   "cell_type": "code",
   "execution_count": 10,
   "metadata": {
    "collapsed": false,
    "deletable": true,
    "editable": true
   },
   "outputs": [],
   "source": [
    "def team_markov(transition_matrix, iterations=25):\n",
    "    \"\"\"\n",
    "    Take team markov transition matrix and return the expected runs per 9-inning game\n",
    "    \"\"\"\n",
    "    x0=np.concatenate([[1], np.zeros(27)])\n",
    "    x=[x0]\n",
    "    for i in range(1,iterations):\n",
    "        vec=np.matmul(x[i-1],transition_matrix)\n",
    "        x+=[vec]\n",
    "    Q=[]\n",
    "    for i in range(0, len(x)-1):\n",
    "        runs=np.matmul(np.matmul(x[i], run_matrix()), x[i+1])\n",
    "        Q+=[runs]\n",
    "    return sum(Q)*9"
   ]
  },
  {
   "cell_type": "code",
   "execution_count": 9,
   "metadata": {
    "collapsed": false,
    "deletable": true,
    "editable": true
   },
   "outputs": [
    {
     "data": {
      "text/plain": [
       "5.1306437912967127"
      ]
     },
     "execution_count": 9,
     "metadata": {},
     "output_type": "execute_result"
    }
   ],
   "source": [
    "team_markov(nyy_transition, 25)"
   ]
  },
  {
   "cell_type": "code",
   "execution_count": null,
   "metadata": {
    "collapsed": true,
    "deletable": true,
    "editable": true
   },
   "outputs": [],
   "source": []
  }
 ],
 "metadata": {
  "anaconda-cloud": {},
  "kernelspec": {
   "display_name": "Python 3",
   "language": "python",
   "name": "python3"
  },
  "language_info": {
   "codemirror_mode": {
    "name": "ipython",
    "version": 3
   },
   "file_extension": ".py",
   "mimetype": "text/x-python",
   "name": "python",
   "nbconvert_exporter": "python",
   "pygments_lexer": "ipython3",
   "version": "3.5.2"
  }
 },
 "nbformat": 4,
 "nbformat_minor": 2
}
