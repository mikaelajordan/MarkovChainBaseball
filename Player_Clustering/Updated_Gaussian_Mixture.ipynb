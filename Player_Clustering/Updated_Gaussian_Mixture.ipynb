{
 "cells": [
  {
   "cell_type": "code",
   "execution_count": 134,
   "metadata": {
    "collapsed": true
   },
   "outputs": [],
   "source": [
    "import pandas as pd\n",
    "import numpy as np"
   ]
  },
  {
   "cell_type": "code",
   "execution_count": 135,
   "metadata": {
    "collapsed": false
   },
   "outputs": [],
   "source": [
    "data=pd.read_csv(\"../Baseball_Data/baseball_ref_data.csv\")\n"
   ]
  },
  {
   "cell_type": "code",
   "execution_count": 117,
   "metadata": {
    "collapsed": false
   },
   "outputs": [],
   "source": [
    "#Removing players with fewer than 50 at bats\n",
    "data=data[data['AB']>75]\n",
    "\n",
    "#Scaling these columns by PA\n",
    "columns_to_be_scaled=['R', 'H', '2B', '3B', 'HR', 'RBI','SB', 'CS', 'BB', 'SO', \n",
    "                      'IBB', 'HBP', 'SH', 'SF', 'GDP', 'TB']\n",
    "for j in columns_to_be_scaled:\n",
    "    data.ix[:,j]=data.ix[:,j]/data.ix[:,'PA']\n",
    "#Making the index the name of the player\n",
    "data=data.set_index(data['Name'])\n",
    "#Removing these columns\n",
    "remove=['Rk', 'Age', 'Tm', 'Lg', 'G', 'PA', 'AB', 'Pos Summary', 'Name']\n",
    "for i in remove:\n",
    "    data.drop(i, axis=1, inplace=True)\n"
   ]
  },
  {
   "cell_type": "code",
   "execution_count": 118,
   "metadata": {
    "collapsed": false
   },
   "outputs": [
    {
     "data": {
      "image/png": "[encoded data removed]",
      "text/plain": [
       "<matplotlib.figure.Figure at 0x7f8730e56e80>"
      ]
     },
     "metadata": {},
     "output_type": "display_data"
    }
   ],
   "source": [
    "data.fillna(0, inplace=True)\n",
    "import matplotlib.pyplot as plt\n",
    "from sklearn.mixture import GaussianMixture\n",
    "n_components = np.arange(1, 21)\n",
    "models = [GaussianMixture(n, covariance_type='full', random_state=0).fit(data)\n",
    "          for n in n_components]\n",
    "plt.plot(n_components, [m.bic(data) for m in models], label='BIC')\n",
    "plt.plot(n_components, [m.aic(data) for m in models], label='AIC')\n",
    "plt.legend(loc='best')\n",
    "plt.xlabel('n_components');\n",
    "plt.show()"
   ]
  },
  {
   "cell_type": "code",
   "execution_count": 119,
   "metadata": {
    "collapsed": false
   },
   "outputs": [],
   "source": [
    "#Let's use 4 clusters\n",
    "clustering_model=models[3]\n",
    "predicted_probs=clustering_model.predict_proba(data).round(3)"
   ]
  },
  {
   "cell_type": "code",
   "execution_count": 120,
   "metadata": {
    "collapsed": false
   },
   "outputs": [],
   "source": [
    "predicted_probs=pd.DataFrame(predicted_probs)\n",
    "predicted_probs=predicted_probs.set_index(data.index)\n",
    "predicted_probs['Player']=predicted_probs.index"
   ]
  },
  {
   "cell_type": "code",
   "execution_count": 143,
   "metadata": {
    "collapsed": false
   },
   "outputs": [],
   "source": [
    "for i in range(len(predicted_probs)-1):\n",
    "    predicted_probs.iloc[i,4]=predicted_probs.iloc[i,4].split(\"\\\\\")[1]"
   ]
  },
  {
   "cell_type": "code",
   "execution_count": 148,
   "metadata": {
    "collapsed": false
   },
   "outputs": [],
   "source": [
    "predicted_probs=predicted_probs.set_index(predicted_probs['Player'])\n",
    "predicted_probs.drop('Player', inplace=True, axis=1)"
   ]
  },
  {
   "cell_type": "code",
   "execution_count": 151,
   "metadata": {
    "collapsed": false
   },
   "outputs": [],
   "source": [
    "predicted_probs=predicted_probs.drop('LgAvg per 600 PA')"
   ]
  },
  {
   "cell_type": "code",
   "execution_count": null,
   "metadata": {
    "collapsed": true
   },
   "outputs": [],
   "source": []
  }
 ],
 "metadata": {
  "kernelspec": {
   "display_name": "Python 3",
   "language": "python",
   "name": "python3"
  },
  "language_info": {
   "codemirror_mode": {
    "name": "ipython",
    "version": 3
   },
   "file_extension": ".py",
   "mimetype": "text/x-python",
   "name": "python",
   "nbconvert_exporter": "python",
   "pygments_lexer": "ipython3",
   "version": "3.5.2"
  }
 },
 "nbformat": 4,
 "nbformat_minor": 2
}
