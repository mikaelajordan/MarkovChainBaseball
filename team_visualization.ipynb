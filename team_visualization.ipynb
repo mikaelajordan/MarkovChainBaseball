{
 "cells": [
  {
   "cell_type": "markdown",
   "metadata": {},
   "source": [
    "**Team Visualization**\n",
    "\n",
    "Goal: For all 30 teams, compare the *expected* number of runs scored per game calculated using the Markov Chain to the *actual* number of runs scored per game in 2016."
   ]
  },
  {
   "cell_type": "code",
   "execution_count": 1,
   "metadata": {
    "collapsed": false
   },
   "outputs": [],
   "source": [
    "from markov_functions import (find_team_atbats, import_raw_batting_data, run_matrix,\n",
    "                            find_states, make_empty_transition_matrix, \n",
    "                            make_transition_matrix, team_markov,\n",
    "                            team_markov_from_raw)\n",
    "\n",
    "batting=import_raw_batting_data(verbose = False)"
   ]
  },
  {
   "cell_type": "code",
   "execution_count": 2,
   "metadata": {
    "collapsed": false
   },
   "outputs": [
    {
     "name": "stdout",
     "output_type": "stream",
     "text": [
      "5.81307069903\n"
     ]
    }
   ],
   "source": [
    "# Show the expected runs for 9 innings of the Minnesota Twins\n",
    "print(team_markov_from_raw(batting, \"MIN\"))"
   ]
  },
  {
   "cell_type": "code",
   "execution_count": 3,
   "metadata": {
    "collapsed": false
   },
   "outputs": [
    {
     "name": "stdout",
     "output_type": "stream",
     "text": [
      "{'LAN': 5.4445949177522834, 'MIL': 5.9167171091630042, 'TEX': 6.0551656758336572, 'PIT': 5.5507411362189272, 'KCA': 5.0977499601756042, 'NYA': 5.1306437446854058, 'TOR': 5.5759519780219282, 'ARI': 5.9292154301695366, 'TBA': 5.5336832918836532, 'SLN': 5.8278414600815198, 'WAS': 5.9850904772612061, 'CLE': 6.2236148023533939, 'ATL': 5.0923221120316331, 'MIN': 5.8130706990279499, 'COL': 6.4761877810536195, 'OAK': 4.7050994570590925, 'MIA': 5.1848046917608146, 'PHI': 5.1206321094137026, 'DET': 6.136764025401769, 'CHN': 6.4739706857570125, 'HOU': 5.9071522836238488, 'NYN': 5.3796663787204437, 'SFN': 5.5146144643686412, 'CIN': 5.7835963264503105, 'ANA': 5.2064281316535288, 'SDN': 5.1140017257752479, 'BAL': 5.8845932407912587, 'CHA': 5.2560025844894458, 'SEA': 5.7671807993032171, 'BOS': 6.6382131279814907}\n"
     ]
    }
   ],
   "source": [
    "# Now find the expected runs for 9 innings of all 30 teams\n",
    "# (This takes some time to run...)\n",
    "team_codes = batting.visteam.unique()\n",
    "team_runs_per_9 = {team:team_markov_from_raw(batting, team) for team in team_codes}\n",
    "print(team_runs_per_9)"
   ]
  },
  {
   "cell_type": "markdown",
   "metadata": {},
   "source": [
    "How do these predicted runs-per-9-innings compare to the actual 2016 runs per game? We'll compare the two using data from http://www.baseball-reference.com/leagues/MLB/2016.shtml. Unfortunately, our data set uses a set of team codes that is slightly different from this data, so we'll re-code the index of our imported data frame accordingly."
   ]
  },
  {
   "cell_type": "code",
   "execution_count": 5,
   "metadata": {
    "collapsed": false
   },
   "outputs": [
    {
     "name": "stdout",
     "output_type": "stream",
     "text": [
      "ARI    4.64\n",
      "ATL    4.03\n",
      "BAL    4.59\n",
      "BOS    5.42\n",
      "CHN    4.99\n",
      "CHA    4.23\n",
      "CIN    4.42\n",
      "CLE    4.83\n",
      "COL    5.22\n",
      "DET    4.66\n",
      "HOU    4.47\n",
      "KCA    4.17\n",
      "ANA    4.43\n",
      "LAN    4.48\n",
      "MIA    4.07\n",
      "MIL    4.14\n",
      "MIN    4.46\n",
      "NYN    4.14\n",
      "NYA    4.20\n",
      "OAK    4.03\n",
      "PHI    3.77\n",
      "PIT    4.50\n",
      "SDN    4.23\n",
      "SEA    4.74\n",
      "SFN    4.41\n",
      "SLN    4.81\n",
      "TBA    4.15\n",
      "TEX    4.72\n",
      "TOR    4.69\n",
      "WAS    4.71\n",
      "Name: runs_per_game, dtype: float64\n"
     ]
    }
   ],
   "source": [
    "import pandas as pd\n",
    "team_2016_data = pd.read_csv('team_2016_stats.csv', index_col = 'team_name')\n",
    "# Data from http://www.baseball-reference.com/leagues/MLB/2016.shtml\n",
    "\n",
    "code_exchange = {'ARI':'ARI', 'ATL':'ATL', 'BAL':'BAL', 'BOS':'BOS', 'CHC':'CHN', 'CHW':'CHA', \n",
    "                 'CIN':'CIN', 'CLE':'CLE', 'COL':'COL', 'DET':'DET', 'HOU':'HOU', 'KCR':'KCA', \n",
    "                 'LAA':'ANA', 'LAD':'LAN', 'MIA':'MIA', 'MIL':'MIL', 'MIN':'MIN', 'NYM':'NYN', \n",
    "                 'NYY':'NYA', 'OAK':'OAK', 'PHI':'PHI', 'PIT':'PIT', 'SDP':'SDN', 'SEA':'SEA', \n",
    "                 'SFG':'SFN', 'STL':'SLN', 'TBR':'TBA', 'TEX':'TEX', 'TOR':'TOR', 'WSN':'WAS'}\n",
    "\n",
    "team_2016_data.index = [code_exchange[i] for i in team_2016_data.index]\n",
    "\n",
    "print(team_2016_data['runs_per_game'])"
   ]
  },
  {
   "cell_type": "code",
   "execution_count": 6,
   "metadata": {
    "collapsed": false
   },
   "outputs": [
    {
     "data": {
      "text/html": [
       "\n",
       "    <div class=\"bk-root\">\n",
       "        <a href=\"http://bokeh.pydata.org\" target=\"_blank\" class=\"bk-logo bk-logo-small bk-logo-notebook\"></a>\n",
       "        <span id=\"4968ae00-29d3-46c2-a1c5-3abba5041ad6\">Loading BokehJS ...</span>\n",
       "    </div>"
      ]
     },
     "metadata": {},
     "output_type": "display_data"
    },
    {
     "data": {
      "application/javascript": [
       "\n",
       "(function(global) {\n",
       "  function now() {\n",
       "    return new Date();\n",
       "  }\n",
       "\n",
       "  if (typeof (window._bokeh_onload_callbacks) === \"undefined\") {\n",
       "    window._bokeh_onload_callbacks = [];\n",
       "  }\n",
       "\n",
       "  function run_callbacks() {\n",
       "    window._bokeh_onload_callbacks.forEach(function(callback) { callback() });\n",
       "    delete window._bokeh_onload_callbacks\n",
       "    console.info(\"Bokeh: all callbacks have finished\");\n",
       "  }\n",
       "\n",
       "  function load_libs(js_urls, callback) {\n",
       "    window._bokeh_onload_callbacks.push(callback);\n",
       "    if (window._bokeh_is_loading > 0) {\n",
       "      console.log(\"Bokeh: BokehJS is being loaded, scheduling callback at\", now());\n",
       "      return null;\n",
       "    }\n",
       "    if (js_urls == null || js_urls.length === 0) {\n",
       "      run_callbacks();\n",
       "      return null;\n",
       "    }\n",
       "    console.log(\"Bokeh: BokehJS not loaded, scheduling load and callback at\", now());\n",
       "    window._bokeh_is_loading = js_urls.length;\n",
       "    for (var i = 0; i < js_urls.length; i++) {\n",
       "      var url = js_urls[i];\n",
       "      var s = document.createElement('script');\n",
       "      s.src = url;\n",
       "      s.async = false;\n",
       "      s.onreadystatechange = s.onload = function() {\n",
       "        window._bokeh_is_loading--;\n",
       "        if (window._bokeh_is_loading === 0) {\n",
       "          console.log(\"Bokeh: all BokehJS libraries loaded\");\n",
       "          run_callbacks()\n",
       "        }\n",
       "      };\n",
       "      s.onerror = function() {\n",
       "        console.warn(\"failed to load library \" + url);\n",
       "      };\n",
       "      console.log(\"Bokeh: injecting script tag for BokehJS library: \", url);\n",
       "      document.getElementsByTagName(\"head\")[0].appendChild(s);\n",
       "    }\n",
       "  };\n",
       "\n",
       "  var js_urls = ['https://cdn.pydata.org/bokeh/release/bokeh-0.12.0.min.js', 'https://cdn.pydata.org/bokeh/release/bokeh-widgets-0.12.0.min.js', 'https://cdn.pydata.org/bokeh/release/bokeh-compiler-0.12.0.min.js'];\n",
       "\n",
       "  var inline_js = [\n",
       "    function(Bokeh) {\n",
       "      Bokeh.set_log_level(\"info\");\n",
       "    },\n",
       "    \n",
       "    function(Bokeh) {\n",
       "      Bokeh.$(\"#4968ae00-29d3-46c2-a1c5-3abba5041ad6\").text(\"BokehJS successfully loaded\");\n",
       "    },\n",
       "    function(Bokeh) {\n",
       "      console.log(\"Bokeh: injecting CSS: https://cdn.pydata.org/bokeh/release/bokeh-0.12.0.min.css\");\n",
       "      Bokeh.embed.inject_css(\"https://cdn.pydata.org/bokeh/release/bokeh-0.12.0.min.css\");\n",
       "      console.log(\"Bokeh: injecting CSS: https://cdn.pydata.org/bokeh/release/bokeh-widgets-0.12.0.min.css\");\n",
       "      Bokeh.embed.inject_css(\"https://cdn.pydata.org/bokeh/release/bokeh-widgets-0.12.0.min.css\");\n",
       "    }\n",
       "  ];\n",
       "\n",
       "  function run_inline_js() {\n",
       "    for (var i = 0; i < inline_js.length; i++) {\n",
       "      inline_js[i](window.Bokeh);\n",
       "    }\n",
       "  }\n",
       "\n",
       "  if (window._bokeh_is_loading === 0) {\n",
       "    console.log(\"Bokeh: BokehJS loaded, going straight to plotting\");\n",
       "    run_inline_js();\n",
       "  } else {\n",
       "    load_libs(js_urls, function() {\n",
       "      console.log(\"Bokeh: BokehJS plotting callback run at\", now());\n",
       "      run_inline_js();\n",
       "    });\n",
       "  }\n",
       "}(this));"
      ]
     },
     "metadata": {},
     "output_type": "display_data"
    }
   ],
   "source": [
    "from bokeh.io import output_notebook, show\n",
    "from bokeh.plotting import figure\n",
    "output_notebook()"
   ]
  },
  {
   "cell_type": "code",
   "execution_count": 7,
   "metadata": {
    "collapsed": false
   },
   "outputs": [
    {
     "data": {
      "text/html": [
       "\n",
       "\n",
       "    <div class=\"bk-root\">\n",
       "        <div class=\"plotdiv\" id=\"a745a895-e803-4c13-86d7-ebafde25e067\"></div>\n",
       "    </div>\n",
       "<script type=\"text/javascript\">\n",
       "  \n",
       "  (function(global) {\n",
       "    function now() {\n",
       "      return new Date();\n",
       "    }\n",
       "  \n",
       "    if (typeof (window._bokeh_onload_callbacks) === \"undefined\") {\n",
       "      window._bokeh_onload_callbacks = [];\n",
       "    }\n",
       "  \n",
       "    function run_callbacks() {\n",
       "      window._bokeh_onload_callbacks.forEach(function(callback) { callback() });\n",
       "      delete window._bokeh_onload_callbacks\n",
       "      console.info(\"Bokeh: all callbacks have finished\");\n",
       "    }\n",
       "  \n",
       "    function load_libs(js_urls, callback) {\n",
       "      window._bokeh_onload_callbacks.push(callback);\n",
       "      if (window._bokeh_is_loading > 0) {\n",
       "        console.log(\"Bokeh: BokehJS is being loaded, scheduling callback at\", now());\n",
       "        return null;\n",
       "      }\n",
       "      if (js_urls == null || js_urls.length === 0) {\n",
       "        run_callbacks();\n",
       "        return null;\n",
       "      }\n",
       "      console.log(\"Bokeh: BokehJS not loaded, scheduling load and callback at\", now());\n",
       "      window._bokeh_is_loading = js_urls.length;\n",
       "      for (var i = 0; i < js_urls.length; i++) {\n",
       "        var url = js_urls[i];\n",
       "        var s = document.createElement('script');\n",
       "        s.src = url;\n",
       "        s.async = false;\n",
       "        s.onreadystatechange = s.onload = function() {\n",
       "          window._bokeh_is_loading--;\n",
       "          if (window._bokeh_is_loading === 0) {\n",
       "            console.log(\"Bokeh: all BokehJS libraries loaded\");\n",
       "            run_callbacks()\n",
       "          }\n",
       "        };\n",
       "        s.onerror = function() {\n",
       "          console.warn(\"failed to load library \" + url);\n",
       "        };\n",
       "        console.log(\"Bokeh: injecting script tag for BokehJS library: \", url);\n",
       "        document.getElementsByTagName(\"head\")[0].appendChild(s);\n",
       "      }\n",
       "    };var element = document.getElementById(\"a745a895-e803-4c13-86d7-ebafde25e067\");\n",
       "    if (element == null) {\n",
       "      console.log(\"Bokeh: ERROR: autoload.js configured with elementid 'a745a895-e803-4c13-86d7-ebafde25e067' but no matching script tag was found. \")\n",
       "      return false;\n",
       "    }\n",
       "  \n",
       "    var js_urls = [];\n",
       "  \n",
       "    var inline_js = [\n",
       "      function(Bokeh) {\n",
       "        Bokeh.$(function() {\n",
       "            var docs_json = {\"87a39630-146f-4c5b-b95d-490af24fe754\":{\"roots\":{\"references\":[{\"attributes\":{},\"id\":\"7de2f7b0-94fe-4bd0-b2ac-407f15ac3894\",\"type\":\"BasicTicker\"},{\"attributes\":{\"bottom_units\":\"screen\",\"fill_alpha\":{\"value\":0.5},\"fill_color\":{\"value\":\"lightgrey\"},\"left_units\":\"screen\",\"level\":\"overlay\",\"line_alpha\":{\"value\":1.0},\"line_color\":{\"value\":\"black\"},\"line_dash\":[4,4],\"line_width\":{\"value\":2},\"plot\":null,\"render_mode\":\"css\",\"right_units\":\"screen\",\"top_units\":\"screen\"},\"id\":\"b3a62cf4-d410-4579-ba8a-9556bf902d20\",\"type\":\"BoxAnnotation\"},{\"attributes\":{\"plot\":{\"id\":\"b65cb811-44d1-45d6-ae2c-476c665e3d32\",\"subtype\":\"Figure\",\"type\":\"Plot\"}},\"id\":\"c4515f1e-45e4-476c-9619-04e39dc36e1f\",\"type\":\"PanTool\"},{\"attributes\":{},\"id\":\"dd22e85f-0296-46eb-9a6c-e13a9fc92a2b\",\"type\":\"BasicTickFormatter\"},{\"attributes\":{\"plot\":{\"id\":\"b65cb811-44d1-45d6-ae2c-476c665e3d32\",\"subtype\":\"Figure\",\"type\":\"Plot\"},\"ticker\":{\"id\":\"3a8e1499-8dd8-4481-83c2-877522f24460\",\"type\":\"BasicTicker\"}},\"id\":\"2c8f141c-9675-44a1-9bc5-a87fcb7ae5dd\",\"type\":\"Grid\"},{\"attributes\":{\"axis_label\":\"Expected Runs Per Game\",\"formatter\":{\"id\":\"dd22e85f-0296-46eb-9a6c-e13a9fc92a2b\",\"type\":\"BasicTickFormatter\"},\"plot\":{\"id\":\"b65cb811-44d1-45d6-ae2c-476c665e3d32\",\"subtype\":\"Figure\",\"type\":\"Plot\"},\"ticker\":{\"id\":\"3a8e1499-8dd8-4481-83c2-877522f24460\",\"type\":\"BasicTicker\"}},\"id\":\"f6df2e8a-22a8-4174-a228-136341b27af1\",\"type\":\"LinearAxis\"},{\"attributes\":{\"callback\":null,\"column_names\":[\"y\",\"x\"],\"data\":{\"x\":[4.5,7.0],\"y\":[4.5,7.0]}},\"id\":\"e009dbd1-217b-4a3d-bdab-80d80ef720f6\",\"type\":\"ColumnDataSource\"},{\"attributes\":{},\"id\":\"6440e2d5-70a7-409c-bce6-81cda2966249\",\"type\":\"BasicTickFormatter\"},{\"attributes\":{\"plot\":{\"id\":\"b65cb811-44d1-45d6-ae2c-476c665e3d32\",\"subtype\":\"Figure\",\"type\":\"Plot\"}},\"id\":\"44769ae9-f15d-4d15-8767-a3da6e5e1317\",\"type\":\"ResetTool\"},{\"attributes\":{\"fill_alpha\":{\"value\":0.1},\"fill_color\":{\"value\":\"#1f77b4\"},\"line_alpha\":{\"value\":0.1},\"line_color\":{\"value\":\"#1f77b4\"},\"size\":{\"units\":\"screen\",\"value\":15},\"x\":{\"field\":\"x\"},\"y\":{\"field\":\"y\"}},\"id\":\"20a0c846-c7d2-49f3-9a42-bc691d0c09bd\",\"type\":\"Circle\"},{\"attributes\":{\"fill_alpha\":{\"value\":0.5},\"fill_color\":{\"value\":\"black\"},\"size\":{\"units\":\"screen\",\"value\":15},\"x\":{\"field\":\"x\"},\"y\":{\"field\":\"y\"}},\"id\":\"0ed023a1-6a1f-48c2-8263-7936b4d43307\",\"type\":\"Circle\"},{\"attributes\":{\"plot\":{\"id\":\"b65cb811-44d1-45d6-ae2c-476c665e3d32\",\"subtype\":\"Figure\",\"type\":\"Plot\"}},\"id\":\"4b5ae7a0-d154-4a5f-9972-00fdf9184fbd\",\"type\":\"HelpTool\"},{\"attributes\":{\"line_alpha\":{\"value\":0.1},\"line_color\":{\"value\":\"#1f77b4\"},\"line_width\":{\"value\":4},\"x\":{\"field\":\"x\"},\"y\":{\"field\":\"y\"}},\"id\":\"68341ef0-9675-4e61-9d3a-18bba3d40241\",\"type\":\"Line\"},{\"attributes\":{},\"id\":\"f0122fd6-017b-4552-b856-6db6126e07a0\",\"type\":\"ToolEvents\"},{\"attributes\":{\"data_source\":{\"id\":\"e009dbd1-217b-4a3d-bdab-80d80ef720f6\",\"type\":\"ColumnDataSource\"},\"glyph\":{\"id\":\"2a0be816-6d62-4170-b016-363f518c950e\",\"type\":\"Line\"},\"hover_glyph\":null,\"nonselection_glyph\":{\"id\":\"68341ef0-9675-4e61-9d3a-18bba3d40241\",\"type\":\"Line\"},\"selection_glyph\":null},\"id\":\"5e881ce0-aa81-4ffa-a32e-cbf36c1e610d\",\"type\":\"GlyphRenderer\"},{\"attributes\":{\"plot\":null,\"text\":\"This Markov Chain Prediction is Awful!\"},\"id\":\"c3e952ea-66e7-44f7-b8f4-f91ea5a895bf\",\"type\":\"Title\"},{\"attributes\":{\"plot\":{\"id\":\"b65cb811-44d1-45d6-ae2c-476c665e3d32\",\"subtype\":\"Figure\",\"type\":\"Plot\"}},\"id\":\"a2118a4e-d8a5-46ed-a7a2-7c984ea43fb0\",\"type\":\"WheelZoomTool\"},{\"attributes\":{\"dimension\":1,\"plot\":{\"id\":\"b65cb811-44d1-45d6-ae2c-476c665e3d32\",\"subtype\":\"Figure\",\"type\":\"Plot\"},\"ticker\":{\"id\":\"7de2f7b0-94fe-4bd0-b2ac-407f15ac3894\",\"type\":\"BasicTicker\"}},\"id\":\"96cfaaa7-faf6-4177-994a-897402fedc9e\",\"type\":\"Grid\"},{\"attributes\":{\"data_source\":{\"id\":\"8a091a60-506f-408d-88d2-888a449d7c20\",\"type\":\"ColumnDataSource\"},\"glyph\":{\"id\":\"0ed023a1-6a1f-48c2-8263-7936b4d43307\",\"type\":\"Circle\"},\"hover_glyph\":null,\"nonselection_glyph\":{\"id\":\"20a0c846-c7d2-49f3-9a42-bc691d0c09bd\",\"type\":\"Circle\"},\"selection_glyph\":null},\"id\":\"13130d88-b274-4d6c-8c65-f068934e1667\",\"type\":\"GlyphRenderer\"},{\"attributes\":{\"overlay\":{\"id\":\"b3a62cf4-d410-4579-ba8a-9556bf902d20\",\"type\":\"BoxAnnotation\"},\"plot\":{\"id\":\"b65cb811-44d1-45d6-ae2c-476c665e3d32\",\"subtype\":\"Figure\",\"type\":\"Plot\"}},\"id\":\"7e96ef94-4884-4a9e-97da-b41c9c7534d5\",\"type\":\"BoxZoomTool\"},{\"attributes\":{\"axis_label\":\"Actual Runs Per Game\",\"formatter\":{\"id\":\"6440e2d5-70a7-409c-bce6-81cda2966249\",\"type\":\"BasicTickFormatter\"},\"plot\":{\"id\":\"b65cb811-44d1-45d6-ae2c-476c665e3d32\",\"subtype\":\"Figure\",\"type\":\"Plot\"},\"ticker\":{\"id\":\"7de2f7b0-94fe-4bd0-b2ac-407f15ac3894\",\"type\":\"BasicTicker\"}},\"id\":\"eb01ff8a-21fe-473e-840a-0ce2c4043a6a\",\"type\":\"LinearAxis\"},{\"attributes\":{\"active_drag\":\"auto\",\"active_scroll\":\"auto\",\"active_tap\":\"auto\",\"tools\":[{\"id\":\"c4515f1e-45e4-476c-9619-04e39dc36e1f\",\"type\":\"PanTool\"},{\"id\":\"a2118a4e-d8a5-46ed-a7a2-7c984ea43fb0\",\"type\":\"WheelZoomTool\"},{\"id\":\"7e96ef94-4884-4a9e-97da-b41c9c7534d5\",\"type\":\"BoxZoomTool\"},{\"id\":\"842d0532-3524-4032-b669-f2d5d6775f29\",\"type\":\"SaveTool\"},{\"id\":\"44769ae9-f15d-4d15-8767-a3da6e5e1317\",\"type\":\"ResetTool\"},{\"id\":\"4b5ae7a0-d154-4a5f-9972-00fdf9184fbd\",\"type\":\"HelpTool\"}]},\"id\":\"0d99cfb3-24ce-465e-8186-11e4b233f385\",\"type\":\"Toolbar\"},{\"attributes\":{\"below\":[{\"id\":\"f6df2e8a-22a8-4174-a228-136341b27af1\",\"type\":\"LinearAxis\"}],\"left\":[{\"id\":\"eb01ff8a-21fe-473e-840a-0ce2c4043a6a\",\"type\":\"LinearAxis\"}],\"renderers\":[{\"id\":\"f6df2e8a-22a8-4174-a228-136341b27af1\",\"type\":\"LinearAxis\"},{\"id\":\"2c8f141c-9675-44a1-9bc5-a87fcb7ae5dd\",\"type\":\"Grid\"},{\"id\":\"eb01ff8a-21fe-473e-840a-0ce2c4043a6a\",\"type\":\"LinearAxis\"},{\"id\":\"96cfaaa7-faf6-4177-994a-897402fedc9e\",\"type\":\"Grid\"},{\"id\":\"b3a62cf4-d410-4579-ba8a-9556bf902d20\",\"type\":\"BoxAnnotation\"},{\"id\":\"13130d88-b274-4d6c-8c65-f068934e1667\",\"type\":\"GlyphRenderer\"},{\"id\":\"5e881ce0-aa81-4ffa-a32e-cbf36c1e610d\",\"type\":\"GlyphRenderer\"}],\"title\":{\"id\":\"c3e952ea-66e7-44f7-b8f4-f91ea5a895bf\",\"type\":\"Title\"},\"tool_events\":{\"id\":\"f0122fd6-017b-4552-b856-6db6126e07a0\",\"type\":\"ToolEvents\"},\"toolbar\":{\"id\":\"0d99cfb3-24ce-465e-8186-11e4b233f385\",\"type\":\"Toolbar\"},\"x_range\":{\"id\":\"7a6d22a8-9c6f-4b87-b96a-7d4ccacfa19e\",\"type\":\"DataRange1d\"},\"y_range\":{\"id\":\"79133678-9a0c-4d3f-87d4-5c9e2ce43e25\",\"type\":\"DataRange1d\"}},\"id\":\"b65cb811-44d1-45d6-ae2c-476c665e3d32\",\"subtype\":\"Figure\",\"type\":\"Plot\"},{\"attributes\":{\"callback\":null},\"id\":\"79133678-9a0c-4d3f-87d4-5c9e2ce43e25\",\"type\":\"DataRange1d\"},{\"attributes\":{\"callback\":null,\"column_names\":[\"x\",\"y\"],\"data\":{\"x\":[5.884593240791259,5.575951978021928,5.533683291883653,5.092322112031633,5.130643744685406,4.7050994570590925,5.907152283623849,6.223614802353394,6.4761877810536195,5.767180799303217,5.256002584489446,5.206428131653529,6.055165675833657,5.514614464368641,5.81307069902795,6.136764025401769,5.929215430169537,5.097749960175604,5.114001725775248,5.82784146008152,5.550741136218927,6.638213127981491,5.916717109163004,5.985090477261206,5.120632109413703,5.184804691760815,5.379666378720444,5.444594917752283,5.7835963264503105,6.4739706857570125],\"y\":[4.59,4.69,4.15,4.03,4.2,4.03,4.47,4.83,5.22,4.74,4.23,4.43,4.72,4.41,4.46,4.66,4.64,4.17,4.23,4.81,4.5,5.42,4.14,4.71,3.77,4.07,4.14,4.48,4.42,4.99]}},\"id\":\"8a091a60-506f-408d-88d2-888a449d7c20\",\"type\":\"ColumnDataSource\"},{\"attributes\":{\"line_alpha\":{\"value\":0.6},\"line_color\":{\"value\":\"navy\"},\"line_width\":{\"value\":4},\"x\":{\"field\":\"x\"},\"y\":{\"field\":\"y\"}},\"id\":\"2a0be816-6d62-4170-b016-363f518c950e\",\"type\":\"Line\"},{\"attributes\":{\"plot\":{\"id\":\"b65cb811-44d1-45d6-ae2c-476c665e3d32\",\"subtype\":\"Figure\",\"type\":\"Plot\"}},\"id\":\"842d0532-3524-4032-b669-f2d5d6775f29\",\"type\":\"SaveTool\"},{\"attributes\":{\"callback\":null},\"id\":\"7a6d22a8-9c6f-4b87-b96a-7d4ccacfa19e\",\"type\":\"DataRange1d\"},{\"attributes\":{},\"id\":\"3a8e1499-8dd8-4481-83c2-877522f24460\",\"type\":\"BasicTicker\"}],\"root_ids\":[\"b65cb811-44d1-45d6-ae2c-476c665e3d32\"]},\"title\":\"Bokeh Application\",\"version\":\"0.12.0\"}};\n",
       "            var render_items = [{\"docid\":\"87a39630-146f-4c5b-b95d-490af24fe754\",\"elementid\":\"a745a895-e803-4c13-86d7-ebafde25e067\",\"modelid\":\"b65cb811-44d1-45d6-ae2c-476c665e3d32\",\"notebook_comms_target\":\"42d2dbdf-40ed-468e-8356-03c7ee254dff\"}];\n",
       "            \n",
       "            Bokeh.embed.embed_items(docs_json, render_items);\n",
       "        });\n",
       "      },\n",
       "      function(Bokeh) {\n",
       "      }\n",
       "    ];\n",
       "  \n",
       "    function run_inline_js() {\n",
       "      for (var i = 0; i < inline_js.length; i++) {\n",
       "        inline_js[i](window.Bokeh);\n",
       "      }\n",
       "    }\n",
       "  \n",
       "    if (window._bokeh_is_loading === 0) {\n",
       "      console.log(\"Bokeh: BokehJS loaded, going straight to plotting\");\n",
       "      run_inline_js();\n",
       "    } else {\n",
       "      load_libs(js_urls, function() {\n",
       "        console.log(\"Bokeh: BokehJS plotting callback run at\", now());\n",
       "        run_inline_js();\n",
       "      });\n",
       "    }\n",
       "  }(this));\n",
       "</script>"
      ]
     },
     "metadata": {},
     "output_type": "display_data"
    },
    {
     "data": {
      "text/html": [
       "<p><code>&lt;Bokeh Notebook handle for <strong>In[7]</strong>&gt;</code></p>"
      ],
      "text/plain": [
       "<bokeh.io._CommsHandle at 0x7fc3e0fab3c8>"
      ]
     },
     "execution_count": 7,
     "metadata": {},
     "output_type": "execute_result"
    }
   ],
   "source": [
    "# create a new plot with default tools, using figure\n",
    "p = figure(plot_width=600, plot_height=600, title=\"This Markov Chain Prediction is Awful!\")\n",
    "p.xaxis.axis_label = \"Expected Runs Per Game\"\n",
    "p.yaxis.axis_label = \"Actual Runs Per Game\"\n",
    "\n",
    "expected_runs = [team_runs_per_9[i] for i in team_codes]\n",
    "#print(exp_runs)\n",
    "\n",
    "actual_runs = [team_2016_data.at[i,'runs_per_game'] for i in team_codes]\n",
    "#print(actual_runs)\n",
    "\n",
    "p.circle(x=expected_runs, y=actual_runs, size=15, line_color=\"black\", fill_color=\"black\", fill_alpha=0.5)\n",
    "p.line(x=[4.5,7],y=[4.5,7], line_width=4, line_color=\"navy\", alpha=0.6)\n",
    "\n",
    "show(p) # show the results"
   ]
  },
  {
   "cell_type": "markdown",
   "metadata": {},
   "source": [
    "It's clear from the graph that our model consistently **overestimates** the number of runs per game. Likely this is due to an error in the transition matrices that ignores non-transitions like pitching changes, etc. On the other hand, the shape looks pretty linear, which is good."
   ]
  }
 ],
 "metadata": {
  "anaconda-cloud": {},
  "kernelspec": {
   "display_name": "Python [Root]",
   "language": "python",
   "name": "Python [Root]"
  },
  "language_info": {
   "codemirror_mode": {
    "name": "ipython",
    "version": 3
   },
   "file_extension": ".py",
   "mimetype": "text/x-python",
   "name": "python",
   "nbconvert_exporter": "python",
   "pygments_lexer": "ipython3",
   "version": "3.5.2"
  }
 },
 "nbformat": 4,
 "nbformat_minor": 0
}
