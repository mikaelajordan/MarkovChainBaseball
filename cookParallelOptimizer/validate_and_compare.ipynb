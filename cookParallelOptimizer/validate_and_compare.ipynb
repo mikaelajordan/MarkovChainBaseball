{
 "cells": [
  {
   "cell_type": "code",
   "execution_count": null,
   "metadata": {
    "collapsed": true
   },
   "outputs": [],
   "source": [
    "from helper.setup import *\n",
    "\n",
    "def stats_full(scores):\n",
    "    sum_stats = get_summary_stats(scores)\n",
    "    x_bar = get_summary_stats(sum_stats['mean'])\n",
    "    x_bar.index = ['x_bar']\n",
    "    sum_stats = sum_stats.append(x_bar)\n",
    "    \n",
    "    mu = sum_stats.ix['x_bar','mean']\n",
    "    sum_stats['In 95% CI?'] = (sum_stats['mean'] - mu).abs() < 1.96*sum_stats['SE']\n",
    "    sum_stats.ix[-1,-1] = sum_stats.ix[0:-1,-1].mean()\n",
    "    #roll average row to top\n",
    "    #sum_stats = pd.concat([sum_stats.ix[['x_bar']],sum_stats.ix[0:-1]])\n",
    "    #display(sum_stats)\n",
    "    rs = sum_stats.ix[['x_bar']]\n",
    "    rs['N'] = sample_size\n",
    "    return rs\n",
    "\n",
    "def stats_simple(scores):\n",
    "    x_bars = scores.mean(axis=0)\n",
    "    rs = get_summary_stats(x_bars)\n",
    "    rs['N'] = sample_size\n",
    "    return(rs)\n",
    "\n",
    "def goodness(scores):\n",
    "    x_bars = scores.mean(axis=0)\n",
    "    return x_bars.mean()\n",
    "\n",
    "\n",
    "%run -i read_matrices.py\n",
    "#Randomly selects 9 batters\n",
    "num_players = players.shape[0]\n",
    "lineup = np.random.permutation(np.arange(num_players))[:9]\n",
    "\n",
    "print_level = 0\n",
    "gridDims = (2**14,1,1)\n",
    "blockDims = (1024,1,1)\n",
    "#gridDims = (1,1,1)\n",
    "#blockDims = (3,1,1)\n",
    "sample_size = 2**11\n",
    "\n",
    "sim_list = [\"parallel\"]\n",
    "sim_list.append(\"serial\")\n",
    "for simulation_method in sim_list:   \n",
    "    \n",
    "    print(\"\\n\\nSimulation Method = %s\"%simulation_method)\n",
    "    dir = \"./\"+simulation_method+\"/\"\n",
    "    setter = dir+\"simulation_setup.py\"\n",
    "    simulator = dir+\"simulate.py\"\n",
    "        \n",
    "    %run -i $setter    \n",
    "    %run -i $simulator\n",
    "    \n",
    "    %time print(goodness(scores))\n",
    "    %time dss = stats_full(scores)\n",
    "    dss.index = ['full']\n",
    "    ss = dss\n",
    "    %time dss = stats_simple(scores)\n",
    "    ss.ix['simple'] = dss.ix[0]\n",
    "    display(ss)"
   ]
  }
 ],
 "metadata": {
  "kernelspec": {
   "display_name": "Python 3",
   "language": "python",
   "name": "python3"
  },
  "language_info": {
   "codemirror_mode": {
    "name": "ipython",
    "version": 3
   },
   "file_extension": ".py",
   "mimetype": "text/x-python",
   "name": "python",
   "nbconvert_exporter": "python",
   "pygments_lexer": "ipython3",
   "version": "3.6.0"
  }
 },
 "nbformat": 4,
 "nbformat_minor": 2
}
