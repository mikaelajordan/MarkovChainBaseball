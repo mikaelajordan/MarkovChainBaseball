{
 "cells": [
  {
   "cell_type": "code",
   "execution_count": 5,
   "metadata": {
    "collapsed": false
   },
   "outputs": [
    {
     "name": "stdout",
     "output_type": "stream",
     "text": [
      "Matrix creation complete\n"
     ]
    }
   ],
   "source": [
    "%run -i make_matrices\n",
    "display(player_types)\n",
    "display(players)"
   ]
  },
  {
   "cell_type": "code",
   "execution_count": 3,
   "metadata": {
    "collapsed": false
   },
   "outputs": [
    {
     "name": "stdout",
     "output_type": "stream",
     "text": [
      "Simulation setup complete\n",
      "CPU times: user 328 ms, sys: 232 ms, total: 560 ms\n",
      "Wall time: 688 ms\n"
     ]
    }
   ],
   "source": [
    "%%time\n",
    "from helper.setup import *\n",
    "\n",
    "simulation_method = \"parallel\"\n",
    "gridDims = (2**10,1,1)\n",
    "blockDims = (1024,1,1)\n",
    "\n",
    "\n",
    "# simulation_method = \"serial\"\n",
    "# gridDims = (2**2,1,1)\n",
    "# blockDims = (128,1,1)\n",
    "\n",
    "sample_size = 2**10\n",
    "print_level = 0\n",
    "\n",
    "%run -i initialize.py\n",
    "\n",
    "dir = \"./\"+simulation_method+\"/\"\n",
    "setter = dir+\"simulation_setup.py\"\n",
    "simulator = dir+\"simulate.py\"\n",
    "\n",
    "def goodness(scores):\n",
    "    x_bars = scores.mean(axis=0)\n",
    "    return x_bars.mean()\n",
    "\n",
    "%run -i $setter"
   ]
  },
  {
   "cell_type": "code",
   "execution_count": 4,
   "metadata": {
    "collapsed": false
   },
   "outputs": [
    {
     "name": "stdout",
     "output_type": "stream",
     "text": [
      "I did 1000 steps, simulating 1048576 games each time.  Best runs/game was 8.792 at step 796 with lineup:\n"
     ]
    },
    {
     "data": {
      "text/html": [
       "<div>\n",
       "<table border=\"1\" class=\"dataframe\">\n",
       "  <thead>\n",
       "    <tr style=\"text-align: right;\">\n",
       "      <th></th>\n",
       "      <th>bat_ave</th>\n",
       "    </tr>\n",
       "  </thead>\n",
       "  <tbody>\n",
       "    <tr>\n",
       "      <th>Parker</th>\n",
       "      <td>344.582</td>\n",
       "    </tr>\n",
       "    <tr>\n",
       "      <th>Gerardo</th>\n",
       "      <td>315.828</td>\n",
       "    </tr>\n",
       "    <tr>\n",
       "      <th>Jeanne</th>\n",
       "      <td>315.403</td>\n",
       "    </tr>\n",
       "    <tr>\n",
       "      <th>Taylor</th>\n",
       "      <td>292.575</td>\n",
       "    </tr>\n",
       "    <tr>\n",
       "      <th>Adam</th>\n",
       "      <td>295.557</td>\n",
       "    </tr>\n",
       "    <tr>\n",
       "      <th>Bobby</th>\n",
       "      <td>271.144</td>\n",
       "    </tr>\n",
       "    <tr>\n",
       "      <th>Mikaela</th>\n",
       "      <td>273.009</td>\n",
       "    </tr>\n",
       "    <tr>\n",
       "      <th>David</th>\n",
       "      <td>271.037</td>\n",
       "    </tr>\n",
       "    <tr>\n",
       "      <th>Mary</th>\n",
       "      <td>298.007</td>\n",
       "    </tr>\n",
       "    <tr>\n",
       "      <th>Joseph</th>\n",
       "      <td>261.332</td>\n",
       "    </tr>\n",
       "    <tr>\n",
       "      <th>Chad</th>\n",
       "      <td>236.338</td>\n",
       "    </tr>\n",
       "    <tr>\n",
       "      <th>Richard</th>\n",
       "      <td>220.135</td>\n",
       "    </tr>\n",
       "    <tr>\n",
       "      <th>Archie</th>\n",
       "      <td>248.754</td>\n",
       "    </tr>\n",
       "    <tr>\n",
       "      <th>Wesley</th>\n",
       "      <td>234.041</td>\n",
       "    </tr>\n",
       "  </tbody>\n",
       "</table>\n",
       "<p>14 rows × 1 columns</p>\n",
       "</div>"
      ],
      "text/plain": [
       "         bat_ave\n",
       "Parker   344.582\n",
       "Gerardo  315.828\n",
       "Jeanne   315.403\n",
       "Taylor   292.575\n",
       "Adam     295.557\n",
       "Bobby    271.144\n",
       "Mikaela  273.009\n",
       "David    271.037\n",
       "Mary     298.007\n",
       "Joseph   261.332\n",
       "Chad     236.338\n",
       "Richard  220.135\n",
       "Archie   248.754\n",
       "Wesley   234.041\n",
       "\n",
       "[14 rows x 1 columns]"
      ]
     },
     "metadata": {},
     "output_type": "display_data"
    },
    {
     "data": {
      "image/png": "[encoded data removed]",
      "text/plain": [
       "<matplotlib.figure.Figure at 0x7fb20958fe48>"
      ]
     },
     "metadata": {},
     "output_type": "display_data"
    },
    {
     "name": "stdout",
     "output_type": "stream",
     "text": [
      "CPU times: user 1min 1s, sys: 8.28 s, total: 1min 9s\n",
      "Wall time: 1min 9s\n"
     ]
    }
   ],
   "source": [
    "%%time\n",
    "num_steps = 1000\n",
    "L = 200\n",
    "\n",
    "num_players = players.shape[0]\n",
    "#lineup = np.random.permutation(np.arange(num_players)).astype('uint8')\n",
    "lineup = np.arange(num_players).astype('uint8')\n",
    "\n",
    "%run -i $simulator\n",
    "\n",
    "good_current = goodness(scores)\n",
    "good_best = good_current\n",
    "lineup_best = lineup.copy()\n",
    "step_best = 0\n",
    "\n",
    "good_history = np.zeros(num_steps)\n",
    "for step in range(num_steps):\n",
    "    p0 = np.random.randint(9)\n",
    "    p1 = p0\n",
    "    while(p1 == p0):\n",
    "        p1 = np.random.randint(num_players)\n",
    "    lineup[p0], lineup[p1] = lineup[p1], lineup[p0]\n",
    "    \n",
    "    %run -i $simulator\n",
    "    good_proposed = goodness(scores)\n",
    "    \n",
    "    delta_good = good_proposed - good_current\n",
    "    if delta_good >= 0:\n",
    "        #proposed is better than current.  Accept.\n",
    "        move = \"accept better\"\n",
    "        good_current = good_proposed.copy()\n",
    "        if good_current > good_best:\n",
    "            #check if best\n",
    "            good_best = good_current\n",
    "            lineup_best = lineup.copy()\n",
    "            step_best = step\n",
    "    else:\n",
    "        #proposed is worse than current        \n",
    "        r = np.random.rand()\n",
    "        a = np.exp(L*(delta_good/good_current))\n",
    "        if r < a:\n",
    "            #accept worse\n",
    "            move = \"accept worse\"            \n",
    "            good_current = good_proposed.copy()\n",
    "        else:\n",
    "            #reject worse\n",
    "            move = \"reject worse\"            \n",
    "            lineup[p0], lineup[p1] = lineup[p1], lineup[p0]\n",
    "    \n",
    "    good_history[step] = good_current.copy()\n",
    "    #print(move)\n",
    "\n",
    "print(\"I did %d steps, simulating %d games each time.  Best runs/game was %.3f at step %d with lineup:\"\n",
    "      %(step+1, num_sims, good_best, step_best))\n",
    "display(players.ix[lineup_best,'bat_ave'])\n",
    "plt.plot(good_history)\n",
    "plt.show()"
   ]
  }
 ],
 "metadata": {
  "kernelspec": {
   "display_name": "Python 3",
   "language": "python",
   "name": "python3"
  },
  "language_info": {
   "codemirror_mode": {
    "name": "ipython",
    "version": 3
   },
   "file_extension": ".py",
   "mimetype": "text/x-python",
   "name": "python",
   "nbconvert_exporter": "python",
   "pygments_lexer": "ipython3",
   "version": "3.6.0"
  }
 },
 "nbformat": 4,
 "nbformat_minor": 2
}
